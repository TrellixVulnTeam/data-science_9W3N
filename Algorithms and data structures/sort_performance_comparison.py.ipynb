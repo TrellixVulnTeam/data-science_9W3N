{
 "cells": [
  {
   "cell_type": "code",
   "execution_count": 23,
   "metadata": {},
   "outputs": [],
   "source": [
    "import time\n",
    "import random\n",
    "\n",
    "# Set seed.\n",
    "random.seed(a=100)\n",
    "\n",
    "# Let's create our default list to be tested.\n",
    "short_list = list(random.sample(range(1000000), 10))\n",
    "long_list = list(random.sample(range(1000000), 10000))\n",
    "\n",
    "# Let's define algos\n",
    "# Insert sort\n",
    "def insert_sort(input_list):\n",
    "    # Copy the input to a new list so we don't modify the original.\n",
    "    new_list = input_list\n",
    "    \n",
    "    # Iterate through the list.\n",
    "    for i in range(len(new_list)):\n",
    "        # Assign place to a new variable.\n",
    "        j = i\n",
    "        \n",
    "        # Move through the list as long as the previous position is larger\n",
    "        # than the current element of list.\n",
    "        while j > 0 and new_list[j - 1] > new_list[j]:\n",
    "            \n",
    "            # Swap places.\n",
    "            new_list[j - 1], new_list[j] = new_list[j], new_list[j - 1]\n",
    "            \n",
    "            # Reduce j by one.\n",
    "            j = j - 1\n",
    "    return new_list"
   ]
  },
  {
   "cell_type": "code",
   "execution_count": 22,
   "metadata": {},
   "outputs": [
    {
     "name": "stdout",
     "output_type": "stream",
     "text": [
      " Insert sort time:  5.05627989769 seconds ---\n"
     ]
    }
   ],
   "source": [
    "start_time = time.time()\n",
    "\n",
    "insert_sort(long_list)\n",
    "\n",
    "print(\" Insert sort time:  %s seconds ---\" % (time.time() - start_time))"
   ]
  },
  {
   "cell_type": "code",
   "execution_count": 20,
   "metadata": {},
   "outputs": [],
   "source": [
    "def merge(a, b):\n",
    "    # Check for empty list.\n",
    "    if len(a) == 0 or len(b) == 0:\n",
    "        return a or b\n",
    "    \n",
    "    # Start with an empty result.\n",
    "    result = []\n",
    "    # Track two indexes.\n",
    "    i, j = 0, 0\n",
    "    # Set a while condition to ensure we iterate only for the length of our two lists.\n",
    "    while (len(result) < len(a) + len(b)):\n",
    "        # If a's next element is lower append that element to our result.\n",
    "        if a[i] < b[j]:\n",
    "            result.append(a[i])\n",
    "            i += 1\n",
    "        # Otherwise append b's next element.\n",
    "        else:\n",
    "            result.append(b[j])\n",
    "            j += 1\n",
    "        # When one list is empty just append everything from the other list and stop.\n",
    "        if i == len(a) or j == len(b):\n",
    "            result.extend(a[i:] or b[j:])\n",
    "            break \n",
    "\n",
    "    return result\n",
    "\n",
    "def merge_sort(lst):\n",
    "    if len(lst) < 2:\n",
    "        return lst\n",
    "\n",
    "    mid = int(len(lst) / 2)\n",
    "    a = merge_sort(lst[:mid])\n",
    "    b = merge_sort(lst[mid:])\n",
    "\n",
    "    return merge(a, b)"
   ]
  },
  {
   "cell_type": "code",
   "execution_count": 21,
   "metadata": {},
   "outputs": [
    {
     "name": "stdout",
     "output_type": "stream",
     "text": [
      "Merge sort time: 0.0803391933441 seconds ---\n"
     ]
    }
   ],
   "source": [
    "# Test on long list.\n",
    "start_time = time.time()\n",
    "\n",
    "merge_sort(long_list)\n",
    "\n",
    "print(\"Merge sort time: %s seconds ---\" % (time.time() - start_time))"
   ]
  },
  {
   "cell_type": "code",
   "execution_count": 28,
   "metadata": {},
   "outputs": [
    {
     "name": "stdout",
     "output_type": "stream",
     "text": [
      "Merge sort time: 5.69991898537 seconds ---\n"
     ]
    }
   ],
   "source": [
    "\n",
    "def selection_sort(input_list):\n",
    "\n",
    "    for idx in range(len(input_list)):\n",
    "\n",
    "        min_idx = idx\n",
    "        for j in range( idx +1, len(input_list)):\n",
    "            if input_list[min_idx] > input_list[j]:\n",
    "                min_idx = j\n",
    "# Swap the minimum value with the compared value\n",
    "\n",
    "        input_list[idx], input_list[min_idx] = input_list[min_idx], input_list[idx]\n",
    "\n",
    "\n",
    "# Test on long list.\n",
    "start_time = time.time()\n",
    "\n",
    "selection_sort(long_list)\n",
    "\n",
    "print(\"Selection sort time: %s seconds ---\" % (time.time() - start_time))\n"
   ]
  },
  {
   "cell_type": "code",
   "execution_count": 29,
   "metadata": {},
   "outputs": [
    {
     "name": "stdout",
     "output_type": "stream",
     "text": [
      "Merge sort time: 0.0382468700409 seconds ---\n"
     ]
    }
   ],
   "source": [
    "def shell_sort(input_list):\n",
    "    \n",
    "    gap = len(input_list) // 2\n",
    "    while gap > 0:\n",
    "\n",
    "        for i in range(gap, len(input_list)):\n",
    "            temp = input_list[i]\n",
    "            j = i\n",
    "# Sort the sub list for this gap\n",
    "\n",
    "            while j >= gap and input_list[j - gap] > temp:\n",
    "                input_list[j] = input_list[j - gap]\n",
    "                j = j-gap\n",
    "            input_list[j] = temp\n",
    "\n",
    "# Reduce the gap for the next element\n",
    "\n",
    "        gap = gap//2\n",
    "# Test on long list.\n",
    "start_time = time.time()\n",
    "\n",
    "shell_sort(long_list)\n",
    "\n",
    "print(\"Shell sort time: %s seconds ---\" % (time.time() - start_time))    "
   ]
  },
  {
   "cell_type": "code",
   "execution_count": 39,
   "metadata": {},
   "outputs": [
    {
     "name": "stdout",
     "output_type": "stream",
     "text": [
      "Bubble sort time: 4.8959980011 seconds ---\n"
     ]
    }
   ],
   "source": [
    "#import sys\n",
    "\n",
    "#sys.setrecursionlimit(10000)\n",
    "\n",
    "\n",
    "def quick_sort(alist):\n",
    "    quickSortHelper(alist,0,len(alist)-1)\n",
    "\n",
    "def quickSortHelper(alist,first,last):\n",
    "    if first<last:\n",
    "\n",
    "        splitpoint = partition(alist,first,last)\n",
    "\n",
    "        quickSortHelper(alist,first,splitpoint-1)\n",
    "        quickSortHelper(alist,splitpoint+1,last)\n",
    "\n",
    "\n",
    "def partition(alist,first,last):\n",
    "    pivotvalue = alist[first]\n",
    "\n",
    "    leftmark = first+1\n",
    "    rightmark = last\n",
    "\n",
    "    done = False\n",
    "    while not done:\n",
    "\n",
    "        while leftmark <= rightmark and alist[leftmark] <= pivotvalue:\n",
    "            leftmark = leftmark + 1\n",
    "\n",
    "        while alist[rightmark] >= pivotvalue and rightmark >= leftmark:\n",
    "            rightmark = rightmark -1\n",
    "\n",
    "        if rightmark < leftmark:\n",
    "            done = True\n",
    "        else:\n",
    "            temp = alist[leftmark]\n",
    "            alist[leftmark] = alist[rightmark]\n",
    "            alist[rightmark] = temp\n",
    "\n",
    "    temp = alist[first]\n",
    "    alist[first] = alist[rightmark]\n",
    "    alist[rightmark] = temp\n",
    "\n",
    "\n",
    "    return rightmark\n",
    "\n",
    "def bubble_sort(list):\n",
    "\n",
    "# Swap the elements to arrange in order\n",
    "    for iter_num in range(len(list)-1,0,-1):\n",
    "        for idx in range(iter_num):\n",
    "            if list[idx]>list[idx+1]:\n",
    "                temp = list[idx]\n",
    "                list[idx] = list[idx+1]\n",
    "                list[idx+1] = temp\n",
    "\n",
    "# Test on long list.\n",
    "start_time = time.time()\n",
    "\n",
    "bubble_sort(long_list)\n",
    "\n",
    "print(\"Bubble sort time: %s seconds ---\" % (time.time() - start_time))   \n",
    "\n",
    "  "
   ]
  },
  {
   "cell_type": "code",
   "execution_count": 40,
   "metadata": {},
   "outputs": [
    {
     "name": "stdout",
     "output_type": "stream",
     "text": [
      "--- 0.00234389305115 seconds ---\n"
     ]
    }
   ],
   "source": [
    "# Default sort method in Python\n",
    "# Fast performance is due to the fact that this method was written in Cypthon\n",
    "start_time = time.time()\n",
    "\n",
    "# Sort the default list. Note that .sort() will sort in place, which would alter default_list.\n",
    "sorted(long_list)\n",
    "\n",
    "# Print time to show runtime\n",
    "print(\"--- %s seconds ---\" % (time.time() - start_time))"
   ]
  },
  {
   "cell_type": "code",
   "execution_count": null,
   "metadata": {},
   "outputs": [],
   "source": []
  }
 ],
 "metadata": {
  "kernelspec": {
   "display_name": "Python 2",
   "language": "python",
   "name": "python2"
  },
  "language_info": {
   "codemirror_mode": {
    "name": "ipython",
    "version": 2
   },
   "file_extension": ".py",
   "mimetype": "text/x-python",
   "name": "python",
   "nbconvert_exporter": "python",
   "pygments_lexer": "ipython2",
   "version": "2.7.15"
  }
 },
 "nbformat": 4,
 "nbformat_minor": 2
}
