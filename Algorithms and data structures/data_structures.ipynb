{
 "cells": [
  {
   "cell_type": "code",
   "execution_count": 1,
   "metadata": {},
   "outputs": [
    {
     "name": "stdout",
     "output_type": "stream",
     "text": [
      "4\n",
      "3\n",
      "[1, 2]\n",
      "John\n",
      "Jane\n",
      "['Mark', 'Matt']\n",
      "47\n",
      "deque([99, 15, 82, 50])\n",
      "99\n",
      "deque([15, 82, 50])\n"
     ]
    }
   ],
   "source": [
    "\n",
    "#1. Stacking\n",
    "\n",
    "numbers = []\n",
    "\n",
    "# Let's push some letters into our list\n",
    "numbers.append(1)  \n",
    "numbers.append(2)  \n",
    "numbers.append(3)  \n",
    "numbers.append(4)\n",
    "\n",
    "\n",
    "last_item = numbers.pop()  \n",
    "print(last_item)\n",
    "\n",
    "last_item = numbers.pop()  \n",
    "print(last_item)\n",
    "\n",
    "print(numbers)\n",
    "\n",
    "\n",
    "#Example: Queue\n",
    "\n",
    "numbers = []\n",
    "\n",
    "# Let's enqueue some numbers into our list\n",
    "numbers.append('John')  \n",
    "numbers.append('Jane')  \n",
    "numbers.append('Mark')  \n",
    "numbers.append('Matt')\n",
    "\n",
    "# Now let's dequeue our numbers, we should get 'banana'\n",
    "first_item = numbers.pop(0)  \n",
    "print('first item: ',first_item)\n",
    "\n",
    "\n",
    "first_item = numbers.pop(0)  \n",
    "print('first item after pop operation: 'first_item)\n",
    "\n",
    "\n",
    "print(numbers)\n",
    "\n",
    "#Example: Using deque library\n",
    "\n",
    "from collections import deque\n",
    "\n",
    "# you can initialize a deque with a list \n",
    "numbers = deque()\n",
    "\n",
    "# Use append like before to add elements\n",
    "numbers.append(99)  \n",
    "numbers.append(15)  \n",
    "numbers.append(82)  \n",
    "numbers.append(50)  \n",
    "numbers.append(47)\n",
    "\n",
    "# You can pop like a stack\n",
    "last_item = numbers.pop()  \n",
    "print(last_item) # 47  \n",
    "print(numbers) # deque([99, 15, 82, 50])\n",
    "\n",
    "# You can dequeue like a queue\n",
    "first_item = numbers.popleft()  \n",
    "print(first_item) # 99  \n",
    "print(numbers) \n"
   ]
  },
  {
   "cell_type": "code",
   "execution_count": null,
   "metadata": {},
   "outputs": [],
   "source": []
  }
 ],
 "metadata": {
  "kernelspec": {
   "display_name": "Python 2",
   "language": "python",
   "name": "python2"
  },
  "language_info": {
   "codemirror_mode": {
    "name": "ipython",
    "version": 2
   },
   "file_extension": ".py",
   "mimetype": "text/x-python",
   "name": "python",
   "nbconvert_exporter": "python",
   "pygments_lexer": "ipython2",
   "version": "2.7.15"
  }
 },
 "nbformat": 4,
 "nbformat_minor": 2
}
