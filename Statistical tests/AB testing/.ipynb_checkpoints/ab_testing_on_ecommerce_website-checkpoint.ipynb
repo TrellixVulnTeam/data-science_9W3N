{
 "cells": [
  {
   "cell_type": "markdown",
   "metadata": {},
   "source": [
    "## Content\n",
    "<font color='blue'><a href='#1'>1. Introduction</a>\n",
    " </font> \n",
    " \n",
    "<font color='blue'><a href='#2'>2. A/B testing</a>\n",
    " </font> \n",
    " \n",
    "\n",
    " \n",
    "\n",
    " "
   ]
  },
  {
   "cell_type": "markdown",
   "metadata": {},
   "source": [
    "<font size=\"6\"><a id='1'>1. Introduction</a></font> \n",
    "\n",
    "I will be conducting A/B test on the data collected from an e-commerce website to make recommendation to the company if they keep the older version of the webpage or implement the new one, or keep experiment running longer\n"
   ]
  },
  {
   "cell_type": "markdown",
   "metadata": {},
   "source": [
    "<font size=\"6\"><a id='2'>2. A/B testing</a></font> \n"
   ]
  },
  {
   "cell_type": "code",
   "execution_count": 1,
   "metadata": {},
   "outputs": [],
   "source": [
    "import pandas as pd\n",
    "import numpy as np\n",
    "from datetime import datetime\n",
    "import matplotlib.pyplot as plt\n",
    "from sklearn.preprocessing import LabelEncoder\n",
    "\n",
    "import warnings\n",
    "warnings.filterwarnings('ignore')\n",
    "\n",
    "data = pd.read_csv(filepath_or_buffer = \"/home/micah/Desktop/data/ab_data.csv\")"
   ]
  },
  {
   "cell_type": "code",
   "execution_count": 2,
   "metadata": {},
   "outputs": [
    {
     "name": "stdout",
     "output_type": "stream",
     "text": [
      "   user_id                   timestamp    group landing_page  converted\n",
      "0   851104  2017-01-21 22:11:48.556739  control     old_page          0\n",
      "1   804228  2017-01-12 08:01:45.159739  control     old_page          0 \n",
      "\n",
      "   user_id                  timestamp  group  landing_page  converted\n",
      "0   851104 2017-01-21 22:11:48.556739      0             1          0\n",
      "1   804228 2017-01-12 08:01:45.159739      0             1          0 \n",
      "\n",
      "data info: \n",
      "<class 'pandas.core.frame.DataFrame'>\n",
      "RangeIndex: 294478 entries, 0 to 294477\n",
      "Data columns (total 5 columns):\n",
      "user_id         294478 non-null int64\n",
      "timestamp       294478 non-null datetime64[ns]\n",
      "group           294478 non-null int64\n",
      "landing_page    294478 non-null int64\n",
      "converted       294478 non-null int64\n",
      "dtypes: datetime64[ns](1), int64(4)\n",
      "memory usage: 11.2 MB\n",
      "None \n",
      "\n",
      "total user id:  294478 \n",
      "\n",
      "unique user id:  290584 \n",
      "\n",
      "total uder id:  294478 \n",
      "\n",
      "missing values: \n",
      "user_id         0\n",
      "timestamp       0\n",
      "group           0\n",
      "landing_page    0\n",
      "converted       0\n",
      "dtype: int64\n"
     ]
    }
   ],
   "source": [
    "print data.head(n=2),'\\n'\n",
    "data['timestamp'] = pd.to_datetime(data.timestamp)\n",
    "\n",
    "labelencoder = LabelEncoder()\n",
    "for i in data.columns[2:4].values: \n",
    "    data[i] = labelencoder.fit_transform(data[i])\n",
    "\n",
    "data['timestamp'] = pd.to_datetime(data.timestamp)\n",
    "\n",
    "\n",
    "from sklearn.preprocessing import LabelEncoder\n",
    "labelencoder = LabelEncoder()\n",
    "for i in data.columns[2:4].values: \n",
    "    data[i] = labelencoder.fit_transform(data[i])\n",
    "\n",
    "print data.head(n=2), '\\n'\n",
    "\n",
    "print 'data info: \\n', data.info(), '\\n'\n",
    "\n",
    "print 'total user id: ', len(data.user_id), '\\n'\n",
    "print 'unique user id: ', data.user_id.nunique(), '\\n'\n",
    "print 'total uder id: ', len(data.user_id), '\\n'\n",
    "print 'missing values: \\n', data.isnull().sum()\n"
   ]
  },
  {
   "cell_type": "markdown",
   "metadata": {},
   "source": [
    "The rule here is that treatment should be aligned with new_page and the control should be aligned with old_page. So let' test if this assumption is valid!"
   ]
  },
  {
   "cell_type": "code",
   "execution_count": 3,
   "metadata": {},
   "outputs": [
    {
     "name": "stdout",
     "output_type": "stream",
     "text": [
      "length of misaligned indexes  3893\n",
      "length of data before misaligned indexes removal  294478\n",
      "length of data after removal  290585\n"
     ]
    }
   ],
   "source": [
    "# treatment =1, control = 0\n",
    "# new_page = 0, old_page = 1\n",
    "misalignment = data.query('(group == 1 and landing_page == 1 ) or (group == 0 and landing_page == 0)')\n",
    "\n",
    "print 'length of misaligned indexes ',len(misalignment.index)\n",
    "print 'length of data before misaligned indexes removal ', len(data)\n",
    "\n",
    "data = data.drop(misalignment.index)\n",
    "print 'length of data after removal ', len(data)\n"
   ]
  },
  {
   "cell_type": "markdown",
   "metadata": {},
   "source": [
    "remove the duplicate users. "
   ]
  },
  {
   "cell_type": "code",
   "execution_count": 4,
   "metadata": {},
   "outputs": [
    {
     "name": "stdout",
     "output_type": "stream",
     "text": [
      "duplicate user(s):  1 \n",
      "\n",
      "duplicate user: \n",
      "      user_id                  timestamp  group  landing_page  converted\n",
      "1899   773192 2017-01-09 05:37:58.781806      1             0          0\n",
      "2893   773192 2017-01-14 02:55:59.590927      1             0          0\n"
     ]
    }
   ],
   "source": [
    "print \"duplicate user(s): \",data.user_id.duplicated().sum(),'\\n'\n",
    "\n",
    "print 'duplicate user: \\n',data[data.duplicated(['user_id'],keep=False)]\n"
   ]
  },
  {
   "cell_type": "code",
   "execution_count": 5,
   "metadata": {},
   "outputs": [
    {
     "name": "stdout",
     "output_type": "stream",
     "text": [
      "legnth of data before dropping duplicate user id:  290585\n",
      "legnth of data after dropping duplicate user id:  290584\n"
     ]
    }
   ],
   "source": [
    "print 'legnth of data before dropping duplicate user id: ',len(data)\n",
    "data1= data.drop_duplicates(subset =\"user_id\")\n",
    "print 'legnth of data after dropping duplicate user id: ', len(data1)"
   ]
  },
  {
   "cell_type": "code",
   "execution_count": 6,
   "metadata": {},
   "outputs": [
    {
     "name": "stdout",
     "output_type": "stream",
     "text": [
      "   user_id                  timestamp  group  landing_page  converted\n",
      "0   851104 2017-01-21 22:11:48.556739      0             1          0\n",
      "1   804228 2017-01-12 08:01:45.159739      0             1          0\n",
      "   user_id                  timestamp  group  landing_page  converted\n",
      "2   661590 2017-01-11 16:55:06.154213      1             0          0\n",
      "3   853541 2017-01-08 18:28:03.143765      1             0          0\n",
      "\n",
      "\n",
      "The conversion probability for the control group is 12.04%\n",
      "The conversion probability for the treatment group is 11.88%\n"
     ]
    }
   ],
   "source": [
    "#new page => converted vs. old page => converted\n",
    "print data1[data1.group==0].head(n=2)\n",
    "print data1[data1.group==1].head(n=2)\n",
    "\n",
    "prob1 = len(data1[(data1.group==0) & (data1.converted==1)])/float(len(data1[data1.group==0]))\n",
    "prob2 = len(data1[(data1.group==1) & (data1.converted==1)])/float(len(data1[data1.group==1]))\n",
    "print '\\n'\n",
    "print \"The conversion probability for the control group is {0:.2%}\".format(prob1)\n",
    "print \"The conversion probability for the treatment group is {0:.2%}\".format(prob2)\n"
   ]
  },
  {
   "cell_type": "code",
   "execution_count": 10,
   "metadata": {},
   "outputs": [
    {
     "name": "stdout",
     "output_type": "stream",
     "text": [
      "   user_id                  timestamp  group  landing_page  converted\n",
      "0   851104 2017-01-21 22:11:48.556739      0             1          0\n",
      "1   804228 2017-01-12 08:01:45.159739      0             1          0\n",
      "            timestamp  group  landing_page  converted\n",
      "timestamp                                            \n",
      "2017-01-02       5712   5712          5712       5712\n",
      "2017-01-03      13208  13208         13208      13208\n",
      "            group  landing_page  converted\n",
      "timestamp                                 \n",
      "2017-01-02   2853          2859        701\n",
      "2017-01-03   6618          6590       1503\n",
      "               group  landing_page  converted\n",
      "timestamp                                    \n",
      "2017-01-02  0.499475      0.500525   0.122724\n",
      "2017-01-03  0.501060      0.498940   0.113795\n",
      "2017-01-04  0.498590      0.501410   0.119293\n",
      "2017-01-05  0.503016      0.496984   0.119084\n",
      "2017-01-06  0.505280      0.494720   0.119449\n"
     ]
    },
    {
     "data": {
      "text/plain": [
       "<Figure size 1440x576 with 0 Axes>"
      ]
     },
     "metadata": {},
     "output_type": "display_data"
    },
    {
     "data": {
      "image/png": "[encoded data removed]",
      "text/plain": [
       "<Figure size 432x288 with 1 Axes>"
      ]
     },
     "metadata": {
      "needs_background": "light"
     },
     "output_type": "display_data"
    }
   ],
   "source": [
    "print data.head(n=2)\n",
    "temp = data.iloc[:,1:]\n",
    "temp1 = temp.resample('D', on='timestamp').count()\n",
    "temp2 =  temp.resample('D', on='timestamp').sum()\n",
    "\n",
    "print temp1.head(n=2)\n",
    "print temp2.head(n=2)\n",
    "temp1 = temp1.iloc[:,1:]\n",
    "\n",
    "temp3 = temp2/temp1\n",
    "print temp3.head()\n",
    "\n",
    "\n",
    "fig = plt.figure(figsize=(20,8))\n",
    "\n",
    "temp3.iloc[:,2:].plot()\n",
    "plt.show()\n"
   ]
  },
  {
   "cell_type": "code",
   "execution_count": null,
   "metadata": {},
   "outputs": [],
   "source": []
  },
  {
   "cell_type": "markdown",
   "metadata": {},
   "source": [
    "Based on the probability above, we can say that control group or the old page has a better conversion rate than the treatment group or the new page. But the probability difference seem to be too low to come to a significant conclusion. But let's verify it by t test. "
   ]
  },
  {
   "cell_type": "code",
   "execution_count": 11,
   "metadata": {},
   "outputs": [
    {
     "name": "stdout",
     "output_type": "stream",
     "text": [
      " t, p values:  1.3109235634981506 0.18988462498742617\n",
      "conclusion: \n"
     ]
    }
   ],
   "source": [
    "from scipy import stats\n",
    "\n",
    "\n",
    "a = data1['converted'][data1.group==0].values\n",
    "b = data1['converted'][data1.group==1].values\n",
    "# two-sided test for the null hypothesis that 2 independent samples have identical average (expected) values\n",
    "\n",
    "t, p = stats.ttest_ind(a,b)\n",
    "print ' t, p values: ',t, p\n",
    "print 'conclusion: '\n"
   ]
  },
  {
   "cell_type": "markdown",
   "metadata": {},
   "source": [
    "Based on the values above, we can fail to reject the null hypothesis that there's no significant difference between the two versions of the websites.\n",
    "\n",
    "Moreover, let' apply proportions z test to compare the two proportions(conversion rates in the old and new pages ) and see if they are the same. This time null hypothesis would be that the probability of convertion is higher for \n",
    "older page than the new page. H0:P_new−P_old≤0"
   ]
  },
  {
   "cell_type": "code",
   "execution_count": 4,
   "metadata": {},
   "outputs": [
    {
     "name": "stdout",
     "output_type": "stream",
     "text": [
      "\n"
     ]
    }
   ],
   "source": [
    "import statsmodels.api as sm\n",
    "\n",
    "convert_old = data.query('converted == 1 and landing_page == 1').count()[0]\n",
    "convert_new = data.query('converted == 1 and landing_page == 0').count()[0]\n",
    "n_old = data.query('landing_page == 1 ').count()[0]\n",
    "n_new = data.query('landing_page == 0 ').count()[0]\n"
   ]
  },
  {
   "cell_type": "code",
   "execution_count": 13,
   "metadata": {},
   "outputs": [
    {
     "name": "stdout",
     "output_type": "stream",
     "text": [
      "-1.3116075339133115 0.905173705140591\n",
      "1.96\n",
      "Since P value is greater than 5% significance level and the z score is less than 1.96, we fail to reject the null hypothesis and conclude that the conversion rates of the old page is greater than or equal to the conversion rates of the new. But for the sake of understanding, let's play out the other variations of null hypothesis. 1.  p_new >= p_old  2.  p_new = p_old \n"
     ]
    }
   ],
   "source": [
    "# larger means alternative hypothesis p_new > p_old while null hypothesis p_new <= p_old \n",
    "# p_new is the proportion of the first sample\n",
    "# p_old is the proportion of the second sample\n",
    "\n",
    "z_score, p_value = sm.stats.proportions_ztest(np.array([convert_new,convert_old]),np.array([n_new,n_old]), \n",
    "                                               alternative = 'larger')\n",
    "\n",
    "print z_score, p_value \n",
    "# 97.5% confidence:\n",
    "print round(stats.norm.ppf(0.975), 2)\n",
    "\n",
    "print \"Since P value is greater than 5% significance level and the z score is less than 1.96, we fail to reject\\\n",
    " the null hypothesis and conclude that the conversion rates of the old page is greater than or equal to the \\\n",
    "conversion rates of the new. But for the sake of understanding, let's play out the other variations of null hypothesis.\\\n",
    " 1.  p_new >= p_old  2.  p_new = p_old \"\n"
   ]
  },
  {
   "cell_type": "code",
   "execution_count": 14,
   "metadata": {},
   "outputs": [
    {
     "name": "stdout",
     "output_type": "stream",
     "text": [
      "(-1.3116075339133115, 0.09482629485940902)\n",
      "(-1.3116075339133115, 0.18965258971881804)\n",
      "we fail to reject the other alternatives as well. That might be confusing, but the right conclusion is thatthere's no statistically significant difference between the two versions of the page at 5% confidence level!To illustrte the point further, let' create a hypthetical data to play with.   \n"
     ]
    }
   ],
   "source": [
    "# Ho.: p_new >= p_old \n",
    "print sm.stats.proportions_ztest(np.array([convert_new,convert_old]),np.array([n_new,n_old]), \n",
    "                                               alternative = 'smaller')\n",
    "# Ho.: p_new = p_old \n",
    "\n",
    "print sm.stats.proportions_ztest(np.array([convert_new,convert_old]),np.array([n_new,n_old]), \n",
    "                                               alternative = 'two-sided')\n",
    "print \"we fail to reject the other alternatives as well. That might be confusing, but the right conclusion is that\\\n",
    "there\\'s no statistically significant difference between the two versions of the page at 5% confidence level!\\\n",
    "To illustrte the point further, let' create a hypthetical data to play with.   \"\n"
   ]
  },
  {
   "cell_type": "code",
   "execution_count": 15,
   "metadata": {},
   "outputs": [
    {
     "name": "stdout",
     "output_type": "stream",
     "text": [
      "First data with bigger difference in conversion rate: \n",
      "         Converted  Total\n",
      "Control         80    200\n",
      "Var            100    200\n",
      "(-2.0100756305184238, 0.04442318485000609)\n",
      "(-2.0100756305184238, 0.022211592425003045)\n",
      "(-2.0100756305184238, 0.977788407574997)\n",
      "Second data with much lower difference in conversion rate(similar to our ecommerce data): \n",
      "         Converted  Total\n",
      "Control         98    200\n",
      "Var            100    200\n",
      "(-0.20001000075006267, 0.8414727596891236)\n",
      "(-0.20001000075006267, 0.4207363798445618)\n",
      "(-0.20001000075006267, 0.5792636201554382)\n",
      "You can clearly see the difference in P value and Z scores!\n"
     ]
    }
   ],
   "source": [
    "df = pd.DataFrame({ \"Converted\": [80, 100],\"Total\": [200, 200]}, index=['Control', 'Var'])\n",
    "print 'First data with bigger difference in conversion rate: '\n",
    "print df\n",
    "\n",
    "print sm.stats.proportions_ztest(count=df.Converted, nobs=df.Total, alternative='two-sided')\n",
    "print sm.stats.proportions_ztest(count=df.Converted, nobs=df.Total, alternative='smaller')\n",
    "print sm.stats.proportions_ztest(count=df.Converted, nobs=df.Total, alternative='larger')\n",
    "\n",
    "df2 = pd.DataFrame({ \"Converted\": [98, 100],\"Total\": [200, 200]}, index=['Control', 'Var'])\n",
    "print 'Second data with much lower difference in conversion rate(similar to our ecommerce data): '\n",
    "\n",
    "print df2\n",
    "\n",
    "print sm.stats.proportions_ztest(count=df2.Converted, nobs=df.Total, alternative='two-sided')\n",
    "print sm.stats.proportions_ztest(count=df2.Converted, nobs=df.Total, alternative='smaller')\n",
    "print sm.stats.proportions_ztest(count=df2.Converted, nobs=df.Total, alternative='larger')\n",
    "\n",
    "print 'You can clearly see the difference in P value and Z scores!'\n",
    "\n"
   ]
  },
  {
   "cell_type": "code",
   "execution_count": 16,
   "metadata": {},
   "outputs": [
    {
     "name": "stdout",
     "output_type": "stream",
     "text": [
      "chi square test for the first sample:  (4.040404040404041, 0.044423184850005966, (array([[ 80, 120],\n",
      "       [100, 100]]), array([[ 90., 110.],\n",
      "       [ 90., 110.]])))\n",
      "chi square test for the second sample:  (0.040004000400040006, 0.8414727596891236, (array([[ 98, 102],\n",
      "       [100, 100]]), array([[ 99., 101.],\n",
      "       [ 99., 101.]])))\n",
      "chi square test result gives p values of 0.044 and 0.84 respectively. That means at 5% confidence level, we can say that in the first sample, numbers are actually independent of each other. This is another way of verifying the results of our z test.\n"
     ]
    }
   ],
   "source": [
    "print 'chi square test for the first sample: ',sm.stats.proportions_chisquare(count=df.Converted, nobs=df.Total)\n",
    "print 'chi square test for the second sample: ', sm.stats.proportions_chisquare(count=df2.Converted, nobs=df2.Total)\n",
    "print 'chi square test result gives p values of 0.044 and 0.84 respectively. That means at 5% confidence level, we \\\n",
    "can say that in the first sample, numbers are actually independent of each other. This is another way of verifying the \\\n",
    "results of our z test.'"
   ]
  },
  {
   "cell_type": "markdown",
   "metadata": {},
   "source": [
    "Let's look at the situation from logistic regression perspective!"
   ]
  },
  {
   "cell_type": "code",
   "execution_count": 17,
   "metadata": {},
   "outputs": [
    {
     "name": "stdout",
     "output_type": "stream",
     "text": [
      "<class 'pandas.core.frame.DataFrame'>\n",
      "Int64Index: 290584 entries, 0 to 294477\n",
      "Data columns (total 5 columns):\n",
      "user_id         290584 non-null int64\n",
      "timestamp       290584 non-null datetime64[ns]\n",
      "group           290584 non-null int64\n",
      "landing_page    290584 non-null int64\n",
      "converted       290584 non-null int64\n",
      "dtypes: datetime64[ns](1), int64(4)\n",
      "memory usage: 13.3 MB\n",
      "None\n",
      "290584\n",
      "<type 'list'>\n",
      "   user_id                  timestamp  group  landing_page  converted states\n",
      "0   851104 2017-01-21 22:11:48.556739      0             1          0     TX\n",
      "1   804228 2017-01-12 08:01:45.159739      0             1          0     NY\n",
      "2   661590 2017-01-11 16:55:06.154213      1             0          0     CA\n",
      "3   853541 2017-01-08 18:28:03.143765      1             0          0     NY\n",
      "4   864975 2017-01-21 01:52:26.210827      0             1          1     TX\n"
     ]
    }
   ],
   "source": [
    "print data1.info()\n",
    "states = ['CA','NY', 'TX']\n",
    "print len(data1)\n",
    "import random\n",
    "states = [random.sample(states, 1) for _ in xrange(len(data1))]\n",
    "states = [item for sublist in states for item in sublist]\n",
    "\n",
    "print type(states[:15])\n",
    "data1['states'] = states\n",
    "print data1.head()"
   ]
  },
  {
   "cell_type": "code",
   "execution_count": 18,
   "metadata": {},
   "outputs": [
    {
     "name": "stdout",
     "output_type": "stream",
     "text": [
      "Optimization terminated successfully.\n",
      "         Current function value: 0.366118\n",
      "         Iterations 6\n"
     ]
    },
    {
     "data": {
      "text/html": [
       "<table class=\"simpletable\">\n",
       "<caption>Logit Regression Results</caption>\n",
       "<tr>\n",
       "  <th>Dep. Variable:</th>         <td>y</td>        <th>  No. Observations:  </th>   <td>290584</td>   \n",
       "</tr>\n",
       "<tr>\n",
       "  <th>Model:</th>               <td>Logit</td>      <th>  Df Residuals:      </th>   <td>290582</td>   \n",
       "</tr>\n",
       "<tr>\n",
       "  <th>Method:</th>               <td>MLE</td>       <th>  Df Model:          </th>   <td>     1</td>   \n",
       "</tr>\n",
       "<tr>\n",
       "  <th>Date:</th>          <td>Tue, 14 May 2019</td> <th>  Pseudo R-squ.:     </th>  <td>8.077e-06</td> \n",
       "</tr>\n",
       "<tr>\n",
       "  <th>Time:</th>              <td>07:02:01</td>     <th>  Log-Likelihood:    </th> <td>-1.0639e+05</td>\n",
       "</tr>\n",
       "<tr>\n",
       "  <th>converged:</th>           <td>True</td>       <th>  LL-Null:           </th> <td>-1.0639e+05</td>\n",
       "</tr>\n",
       "<tr>\n",
       "  <th> </th>                      <td> </td>        <th>  LLR p-value:       </th>   <td>0.1899</td>   \n",
       "</tr>\n",
       "</table>\n",
       "<table class=\"simpletable\">\n",
       "<tr>\n",
       "      <td></td>         <th>coef</th>     <th>std err</th>      <th>z</th>      <th>P>|z|</th>  <th>[0.025</th>    <th>0.975]</th>  \n",
       "</tr>\n",
       "<tr>\n",
       "  <th>intercept</th> <td>   -1.9888</td> <td>    0.008</td> <td> -246.669</td> <td> 0.000</td> <td>   -2.005</td> <td>   -1.973</td>\n",
       "</tr>\n",
       "<tr>\n",
       "  <th>group</th>     <td>   -0.0150</td> <td>    0.011</td> <td>   -1.311</td> <td> 0.190</td> <td>   -0.037</td> <td>    0.007</td>\n",
       "</tr>\n",
       "</table>"
      ],
      "text/plain": [
       "<class 'statsmodels.iolib.summary.Summary'>\n",
       "\"\"\"\n",
       "                           Logit Regression Results                           \n",
       "==============================================================================\n",
       "Dep. Variable:                      y   No. Observations:               290584\n",
       "Model:                          Logit   Df Residuals:                   290582\n",
       "Method:                           MLE   Df Model:                            1\n",
       "Date:                Tue, 14 May 2019   Pseudo R-squ.:               8.077e-06\n",
       "Time:                        07:02:01   Log-Likelihood:            -1.0639e+05\n",
       "converged:                       True   LL-Null:                   -1.0639e+05\n",
       "                                        LLR p-value:                    0.1899\n",
       "==============================================================================\n",
       "                 coef    std err          z      P>|z|      [0.025      0.975]\n",
       "------------------------------------------------------------------------------\n",
       "intercept     -1.9888      0.008   -246.669      0.000      -2.005      -1.973\n",
       "group         -0.0150      0.011     -1.311      0.190      -0.037       0.007\n",
       "==============================================================================\n",
       "\"\"\""
      ]
     },
     "execution_count": 18,
     "metadata": {},
     "output_type": "execute_result"
    }
   ],
   "source": [
    "#Let's create intercept\n",
    "\n",
    "data2 = data1\n",
    "data2['intercept'] = 1\n",
    "\n",
    "log = sm.Logit(data2['converted'].values, data2[['intercept', 'group']])\n",
    "results = log.fit()\n",
    "results.summary()"
   ]
  },
  {
   "cell_type": "markdown",
   "metadata": {},
   "source": [
    "The p-value from the group is 0.19 and the p-value from previous part is 0.90. So, in both cases, we fail to reject the null hyphothesis because these two p-values are greater than 0.05(Type Error I)."
   ]
  },
  {
   "cell_type": "markdown",
   "metadata": {},
   "source": [
    "Logistic regression approach II (add states)\n",
    "Now, lets assume that the data was collected from only 3 states: CA, NY, and TX.\n",
    "\n",
    "I will analyze if the states have an impact on conversion."
   ]
  },
  {
   "cell_type": "code",
   "execution_count": 19,
   "metadata": {},
   "outputs": [
    {
     "name": "stdout",
     "output_type": "stream",
     "text": [
      "   user_id                  timestamp  group  landing_page  converted states  \\\n",
      "0   851104 2017-01-21 22:11:48.556739      0             1          0     TX   \n",
      "1   804228 2017-01-12 08:01:45.159739      0             1          0     NY   \n",
      "2   661590 2017-01-11 16:55:06.154213      1             0          0     CA   \n",
      "3   853541 2017-01-08 18:28:03.143765      1             0          0     NY   \n",
      "4   864975 2017-01-21 01:52:26.210827      0             1          1     TX   \n",
      "\n",
      "   intercept  CA  NY  TX  \n",
      "0          1   0   0   1  \n",
      "1          1   0   1   0  \n",
      "2          1   1   0   0  \n",
      "3          1   0   1   0  \n",
      "4          1   0   0   1  \n"
     ]
    }
   ],
   "source": [
    "data2[['CA', 'NY', 'TX']] = pd.get_dummies(data2['states'])\n",
    "print data2.head()\n"
   ]
  },
  {
   "cell_type": "code",
   "execution_count": 20,
   "metadata": {},
   "outputs": [
    {
     "name": "stdout",
     "output_type": "stream",
     "text": [
      "Optimization terminated successfully.\n",
      "         Current function value: 0.366116\n",
      "         Iterations 6\n"
     ]
    },
    {
     "data": {
      "text/html": [
       "<table class=\"simpletable\">\n",
       "<caption>Logit Regression Results</caption>\n",
       "<tr>\n",
       "  <th>Dep. Variable:</th>     <td>converted</td>    <th>  No. Observations:  </th>   <td>290584</td>   \n",
       "</tr>\n",
       "<tr>\n",
       "  <th>Model:</th>               <td>Logit</td>      <th>  Df Residuals:      </th>   <td>290580</td>   \n",
       "</tr>\n",
       "<tr>\n",
       "  <th>Method:</th>               <td>MLE</td>       <th>  Df Model:          </th>   <td>     3</td>   \n",
       "</tr>\n",
       "<tr>\n",
       "  <th>Date:</th>          <td>Tue, 14 May 2019</td> <th>  Pseudo R-squ.:     </th>  <td>1.549e-05</td> \n",
       "</tr>\n",
       "<tr>\n",
       "  <th>Time:</th>              <td>07:02:18</td>     <th>  Log-Likelihood:    </th> <td>-1.0639e+05</td>\n",
       "</tr>\n",
       "<tr>\n",
       "  <th>converged:</th>           <td>True</td>       <th>  LL-Null:           </th> <td>-1.0639e+05</td>\n",
       "</tr>\n",
       "<tr>\n",
       "  <th> </th>                      <td> </td>        <th>  LLR p-value:       </th>   <td>0.3481</td>   \n",
       "</tr>\n",
       "</table>\n",
       "<table class=\"simpletable\">\n",
       "<tr>\n",
       "      <td></td>         <th>coef</th>     <th>std err</th>      <th>z</th>      <th>P>|z|</th>  <th>[0.025</th>    <th>0.975]</th>  \n",
       "</tr>\n",
       "<tr>\n",
       "  <th>intercept</th> <td>   -1.9826</td> <td>    0.011</td> <td> -173.787</td> <td> 0.000</td> <td>   -2.005</td> <td>   -1.960</td>\n",
       "</tr>\n",
       "<tr>\n",
       "  <th>group</th>     <td>   -0.0150</td> <td>    0.011</td> <td>   -1.310</td> <td> 0.190</td> <td>   -0.037</td> <td>    0.007</td>\n",
       "</tr>\n",
       "<tr>\n",
       "  <th>NY</th>        <td>   -0.0163</td> <td>    0.014</td> <td>   -1.162</td> <td> 0.245</td> <td>   -0.044</td> <td>    0.011</td>\n",
       "</tr>\n",
       "<tr>\n",
       "  <th>TX</th>        <td>   -0.0023</td> <td>    0.014</td> <td>   -0.167</td> <td> 0.867</td> <td>   -0.030</td> <td>    0.025</td>\n",
       "</tr>\n",
       "</table>"
      ],
      "text/plain": [
       "<class 'statsmodels.iolib.summary.Summary'>\n",
       "\"\"\"\n",
       "                           Logit Regression Results                           \n",
       "==============================================================================\n",
       "Dep. Variable:              converted   No. Observations:               290584\n",
       "Model:                          Logit   Df Residuals:                   290580\n",
       "Method:                           MLE   Df Model:                            3\n",
       "Date:                Tue, 14 May 2019   Pseudo R-squ.:               1.549e-05\n",
       "Time:                        07:02:18   Log-Likelihood:            -1.0639e+05\n",
       "converged:                       True   LL-Null:                   -1.0639e+05\n",
       "                                        LLR p-value:                    0.3481\n",
       "==============================================================================\n",
       "                 coef    std err          z      P>|z|      [0.025      0.975]\n",
       "------------------------------------------------------------------------------\n",
       "intercept     -1.9826      0.011   -173.787      0.000      -2.005      -1.960\n",
       "group         -0.0150      0.011     -1.310      0.190      -0.037       0.007\n",
       "NY            -0.0163      0.014     -1.162      0.245      -0.044       0.011\n",
       "TX            -0.0023      0.014     -0.167      0.867      -0.030       0.025\n",
       "==============================================================================\n",
       "\"\"\""
      ]
     },
     "execution_count": 20,
     "metadata": {},
     "output_type": "execute_result"
    }
   ],
   "source": [
    "#Print Summary\n",
    "log2 = sm.Logit(data2['converted'], data2[['intercept','group','NY','TX']])\n",
    "results2 = log2.fit()\n",
    "results2.summary()\n"
   ]
  },
  {
   "cell_type": "code",
   "execution_count": 21,
   "metadata": {},
   "outputs": [
    {
     "name": "stdout",
     "output_type": "stream",
     "text": [
      "1.015113064615719 1.016128685406095 1.0273678027634894\n"
     ]
    }
   ],
   "source": [
    "# For better visualizing the coef, we exponentiated them with numpy.\n",
    "print 1/np.exp(-0.015),np.exp(0.016), np.exp(0.027)"
   ]
  },
  {
   "cell_type": "markdown",
   "metadata": {},
   "source": [
    "For each 1 unit decrease in new_page, convert is 1.015 times as likely holding all else constant.\n",
    "\n",
    "For each 1 unit decrease in NY, convert is 1.016 times as likely holding all else constant.\n",
    "\n",
    "For each 1 unit decrease in TX, convert is 1.027 times as likely holding all else constant"
   ]
  },
  {
   "cell_type": "code",
   "execution_count": 22,
   "metadata": {},
   "outputs": [
    {
     "data": {
      "text/html": [
       "<div>\n",
       "<style scoped>\n",
       "    .dataframe tbody tr th:only-of-type {\n",
       "        vertical-align: middle;\n",
       "    }\n",
       "\n",
       "    .dataframe tbody tr th {\n",
       "        vertical-align: top;\n",
       "    }\n",
       "\n",
       "    .dataframe thead th {\n",
       "        text-align: right;\n",
       "    }\n",
       "</style>\n",
       "<table border=\"1\" class=\"dataframe\">\n",
       "  <thead>\n",
       "    <tr style=\"text-align: right;\">\n",
       "      <th></th>\n",
       "      <th>user_id</th>\n",
       "      <th>timestamp</th>\n",
       "      <th>group</th>\n",
       "      <th>landing_page</th>\n",
       "      <th>converted</th>\n",
       "      <th>states</th>\n",
       "      <th>intercept</th>\n",
       "      <th>CA</th>\n",
       "      <th>NY</th>\n",
       "      <th>TX</th>\n",
       "      <th>NY_new_page</th>\n",
       "      <th>TX_new_page</th>\n",
       "    </tr>\n",
       "  </thead>\n",
       "  <tbody>\n",
       "    <tr>\n",
       "      <th>0</th>\n",
       "      <td>851104</td>\n",
       "      <td>2017-01-21 22:11:48.556739</td>\n",
       "      <td>0</td>\n",
       "      <td>1</td>\n",
       "      <td>0</td>\n",
       "      <td>TX</td>\n",
       "      <td>1</td>\n",
       "      <td>0</td>\n",
       "      <td>0</td>\n",
       "      <td>1</td>\n",
       "      <td>0</td>\n",
       "      <td>0</td>\n",
       "    </tr>\n",
       "    <tr>\n",
       "      <th>1</th>\n",
       "      <td>804228</td>\n",
       "      <td>2017-01-12 08:01:45.159739</td>\n",
       "      <td>0</td>\n",
       "      <td>1</td>\n",
       "      <td>0</td>\n",
       "      <td>NY</td>\n",
       "      <td>1</td>\n",
       "      <td>0</td>\n",
       "      <td>1</td>\n",
       "      <td>0</td>\n",
       "      <td>0</td>\n",
       "      <td>0</td>\n",
       "    </tr>\n",
       "    <tr>\n",
       "      <th>2</th>\n",
       "      <td>661590</td>\n",
       "      <td>2017-01-11 16:55:06.154213</td>\n",
       "      <td>1</td>\n",
       "      <td>0</td>\n",
       "      <td>0</td>\n",
       "      <td>CA</td>\n",
       "      <td>1</td>\n",
       "      <td>1</td>\n",
       "      <td>0</td>\n",
       "      <td>0</td>\n",
       "      <td>0</td>\n",
       "      <td>0</td>\n",
       "    </tr>\n",
       "    <tr>\n",
       "      <th>3</th>\n",
       "      <td>853541</td>\n",
       "      <td>2017-01-08 18:28:03.143765</td>\n",
       "      <td>1</td>\n",
       "      <td>0</td>\n",
       "      <td>0</td>\n",
       "      <td>NY</td>\n",
       "      <td>1</td>\n",
       "      <td>0</td>\n",
       "      <td>1</td>\n",
       "      <td>0</td>\n",
       "      <td>1</td>\n",
       "      <td>0</td>\n",
       "    </tr>\n",
       "    <tr>\n",
       "      <th>4</th>\n",
       "      <td>864975</td>\n",
       "      <td>2017-01-21 01:52:26.210827</td>\n",
       "      <td>0</td>\n",
       "      <td>1</td>\n",
       "      <td>1</td>\n",
       "      <td>TX</td>\n",
       "      <td>1</td>\n",
       "      <td>0</td>\n",
       "      <td>0</td>\n",
       "      <td>1</td>\n",
       "      <td>0</td>\n",
       "      <td>0</td>\n",
       "    </tr>\n",
       "  </tbody>\n",
       "</table>\n",
       "</div>"
      ],
      "text/plain": [
       "   user_id                  timestamp  group  landing_page  converted states  \\\n",
       "0   851104 2017-01-21 22:11:48.556739      0             1          0     TX   \n",
       "1   804228 2017-01-12 08:01:45.159739      0             1          0     NY   \n",
       "2   661590 2017-01-11 16:55:06.154213      1             0          0     CA   \n",
       "3   853541 2017-01-08 18:28:03.143765      1             0          0     NY   \n",
       "4   864975 2017-01-21 01:52:26.210827      0             1          1     TX   \n",
       "\n",
       "   intercept  CA  NY  TX  NY_new_page  TX_new_page  \n",
       "0          1   0   0   1            0            0  \n",
       "1          1   0   1   0            0            0  \n",
       "2          1   1   0   0            0            0  \n",
       "3          1   0   1   0            1            0  \n",
       "4          1   0   0   1            0            0  "
      ]
     },
     "execution_count": 22,
     "metadata": {},
     "output_type": "execute_result"
    }
   ],
   "source": [
    "#To understand the interaction between page and state, we need two create two columns that multiple group to the states.\n",
    "\n",
    "data2['NY_new_page']=data2['group']*data2['NY']\n",
    "data2['TX_new_page']=data2['group']*data2['TX']\n",
    "\n",
    "data2.head()"
   ]
  },
  {
   "cell_type": "code",
   "execution_count": 23,
   "metadata": {},
   "outputs": [
    {
     "name": "stdout",
     "output_type": "stream",
     "text": [
      "Optimization terminated successfully.\n",
      "         Current function value: 0.366114\n",
      "         Iterations 6\n"
     ]
    },
    {
     "data": {
      "text/html": [
       "<table class=\"simpletable\">\n",
       "<caption>Logit Regression Results</caption>\n",
       "<tr>\n",
       "  <th>Dep. Variable:</th>     <td>converted</td>    <th>  No. Observations:  </th>   <td>290584</td>   \n",
       "</tr>\n",
       "<tr>\n",
       "  <th>Model:</th>               <td>Logit</td>      <th>  Df Residuals:      </th>   <td>290578</td>   \n",
       "</tr>\n",
       "<tr>\n",
       "  <th>Method:</th>               <td>MLE</td>       <th>  Df Model:          </th>   <td>     5</td>   \n",
       "</tr>\n",
       "<tr>\n",
       "  <th>Date:</th>          <td>Tue, 14 May 2019</td> <th>  Pseudo R-squ.:     </th>  <td>2.001e-05</td> \n",
       "</tr>\n",
       "<tr>\n",
       "  <th>Time:</th>              <td>07:03:08</td>     <th>  Log-Likelihood:    </th> <td>-1.0639e+05</td>\n",
       "</tr>\n",
       "<tr>\n",
       "  <th>converged:</th>           <td>True</td>       <th>  LL-Null:           </th> <td>-1.0639e+05</td>\n",
       "</tr>\n",
       "<tr>\n",
       "  <th> </th>                      <td> </td>        <th>  LLR p-value:       </th>   <td>0.5129</td>   \n",
       "</tr>\n",
       "</table>\n",
       "<table class=\"simpletable\">\n",
       "<tr>\n",
       "       <td></td>          <th>coef</th>     <th>std err</th>      <th>z</th>      <th>P>|z|</th>  <th>[0.025</th>    <th>0.975]</th>  \n",
       "</tr>\n",
       "<tr>\n",
       "  <th>intercept</th>   <td>   -1.9896</td> <td>    0.014</td> <td> -142.224</td> <td> 0.000</td> <td>   -2.017</td> <td>   -1.962</td>\n",
       "</tr>\n",
       "<tr>\n",
       "  <th>group</th>       <td>   -0.0010</td> <td>    0.020</td> <td>   -0.052</td> <td> 0.958</td> <td>   -0.040</td> <td>    0.038</td>\n",
       "</tr>\n",
       "<tr>\n",
       "  <th>NY</th>          <td>   -0.0091</td> <td>    0.020</td> <td>   -0.458</td> <td> 0.647</td> <td>   -0.048</td> <td>    0.030</td>\n",
       "</tr>\n",
       "<tr>\n",
       "  <th>TX</th>          <td>    0.0113</td> <td>    0.020</td> <td>    0.572</td> <td> 0.567</td> <td>   -0.027</td> <td>    0.050</td>\n",
       "</tr>\n",
       "<tr>\n",
       "  <th>NY_new_page</th> <td>   -0.0144</td> <td>    0.028</td> <td>   -0.515</td> <td> 0.606</td> <td>   -0.069</td> <td>    0.041</td>\n",
       "</tr>\n",
       "<tr>\n",
       "  <th>TX_new_page</th> <td>   -0.0274</td> <td>    0.028</td> <td>   -0.980</td> <td> 0.327</td> <td>   -0.082</td> <td>    0.027</td>\n",
       "</tr>\n",
       "</table>"
      ],
      "text/plain": [
       "<class 'statsmodels.iolib.summary.Summary'>\n",
       "\"\"\"\n",
       "                           Logit Regression Results                           \n",
       "==============================================================================\n",
       "Dep. Variable:              converted   No. Observations:               290584\n",
       "Model:                          Logit   Df Residuals:                   290578\n",
       "Method:                           MLE   Df Model:                            5\n",
       "Date:                Tue, 14 May 2019   Pseudo R-squ.:               2.001e-05\n",
       "Time:                        07:03:08   Log-Likelihood:            -1.0639e+05\n",
       "converged:                       True   LL-Null:                   -1.0639e+05\n",
       "                                        LLR p-value:                    0.5129\n",
       "===============================================================================\n",
       "                  coef    std err          z      P>|z|      [0.025      0.975]\n",
       "-------------------------------------------------------------------------------\n",
       "intercept      -1.9896      0.014   -142.224      0.000      -2.017      -1.962\n",
       "group          -0.0010      0.020     -0.052      0.958      -0.040       0.038\n",
       "NY             -0.0091      0.020     -0.458      0.647      -0.048       0.030\n",
       "TX              0.0113      0.020      0.572      0.567      -0.027       0.050\n",
       "NY_new_page    -0.0144      0.028     -0.515      0.606      -0.069       0.041\n",
       "TX_new_page    -0.0274      0.028     -0.980      0.327      -0.082       0.027\n",
       "===============================================================================\n",
       "\"\"\""
      ]
     },
     "execution_count": 23,
     "metadata": {},
     "output_type": "execute_result"
    }
   ],
   "source": [
    "log3 = sm.Logit(data2['converted'], data2[['intercept', 'group', 'NY', 'TX','NY_new_page','TX_new_page']])\n",
    "results3 = log3.fit()\n",
    "results3.summary()"
   ]
  },
  {
   "cell_type": "code",
   "execution_count": 24,
   "metadata": {},
   "outputs": [
    {
     "data": {
      "text/plain": [
       "(1.0264435877001652,\n",
       " 0.9886647337781319,\n",
       " 0.9526573393058348,\n",
       " 0.9906440418940348,\n",
       " 1.0443555535347209)"
      ]
     },
     "execution_count": 24,
     "metadata": {},
     "output_type": "execute_result"
    }
   ],
   "source": [
    "1/np.exp(-0.0261),np.exp(-0.0114), np.exp(-0.0485),np.exp(-0.0094),np.exp(0.0434)\n"
   ]
  },
  {
   "cell_type": "markdown",
   "metadata": {},
   "source": [
    "For each 1 unit decrease in NY new_page, convert is 0.99 times as likely holding all else constant.\n",
    "\n",
    "For each 1 unit increase in TX new_page, convert is 1.044 times as likely holding all else constant."
   ]
  },
  {
   "cell_type": "markdown",
   "metadata": {},
   "source": [
    "Recommendation: \n",
    "\n",
    "The work described in this notebook is based on a database providing details on the conversion rate of two groups(treatment group that holds the new page and control group that holds the old page), on an E-commerce platform from 2017-01-02 to 2017-01-24. The goal was to decide whether the E-commerce website should keep the old page or change to a new.\n",
    "\n",
    "Regarding the quality of the data, we had only 1 row duplicated in a sample with 294,478 rows. So, that problem did not affect the results.\n",
    "\n",
    "To achieve our goal, we performed the following tests: A/B test with t-test, z-test and logistic regression models. In A/B test, we found the p-value is higher than type error I, and because this, we fail to reject the null hyphotesis. Then, we saw the z-score was 1.31 which does not exceed the critical value of 1.96, so we fail again to reject the null hyphothesis.\n",
    "\n",
    "After that, we used stasmodels to fit the regression model and we found there is a significant difference in conversion based on which page a customer receives. In the first experiment with regression, we analyzed the individual factors of country and page on conversion.\n",
    "\n",
    "Since the data has been collected for only period of 22 days, data insufficiency could mislead us into making wrong decisions on old page and new page implementation, although all tests indicated that we should keep the old one, we should collect data for 3 more months to minimize time related biases."
   ]
  }
 ],
 "metadata": {
  "kernelspec": {
   "display_name": "Python 2",
   "language": "python",
   "name": "python2"
  },
  "language_info": {
   "codemirror_mode": {
    "name": "ipython",
    "version": 2
   },
   "file_extension": ".py",
   "mimetype": "text/x-python",
   "name": "python",
   "nbconvert_exporter": "python",
   "pygments_lexer": "ipython2",
   "version": "2.7.15"
  }
 },
 "nbformat": 4,
 "nbformat_minor": 2
}
