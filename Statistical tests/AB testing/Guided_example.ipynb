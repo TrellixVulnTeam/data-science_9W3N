{
 "cells": [
  {
   "cell_type": "code",
   "execution_count": null,
   "metadata": {},
   "outputs": [],
   "source": [
    "# The experiment:  BlueBird company has been using the same advertising email for years, and some at the company are \n",
    "# starting to feel that it's getting a little stale. Ever the data driven individual, you propose an experiment. \n",
    "# The marketing department draws up a new version of the email, and you'll conduct an A/B test comparing the two emails.\n",
    "\n",
    "# To do list before the experiment: \n",
    "# 1. Have a copy of Both Emails. This is useful so that anyone looking into the experiment can use the research \n",
    "# proposal to actually see what happens.\n",
    "\n",
    "# 2. Roll out plan: What percentage of the population will be tested?\n",
    "# how long will the experiment last? how many people will be treated?\n",
    "# Often times, though 50:50 rollouts are the fastest, a gradual rollout will be used to ensure that there are no \n",
    "# negative consequences of the experiment or if things are broken or severely degraded it can be rolled back quickly.\n",
    "# In this case we'll do two weeks at 10% and then two weeks at 50%. That will lead to about 30,000+ in treatment,\n",
    "# which is a nice sized sample\n",
    "# The rate at which you roll out your A/B tests to new users should depend on the size of your total audience \n",
    "# as well as how fast you want to get results. \n",
    "# It is better to implement a two-to-three stage rollout process, starting with a small portion of their total \n",
    "# audience and slowly increasing the sample size to a higher percentage of the audience until finally reaching 100%.\n",
    "# This type of staged roll out plan can help minimize the risks associated with testing a new feature\n",
    "\n",
    "\n",
    "#3. Success Metric: Signups (also called conversions), and use t-test with a p-value of .05\n",
    "\n",
    "#4. Secondary metric: The time from email to signup.\n",
    "\n",
    "#5. Test the infrastructure before rolling out. In this case that means making sure the email is set up properly to be\n",
    "# sent out when the experiment turns on. If it's manual, that's pretty easy (make sure it's formatted properly and \n",
    "# the email is generally deliverable). If you use a service, sending some test emails to test accounts is probably \n",
    "# a good idea. This can be either an engineering or a data science task, depending on complexity.\n",
    "\n",
    "#6. Method for randomly sampling subjects, and know if people stay in test or control permanently(meaning if they \n",
    "# will be tested once). This can be a matter for something like emails if people receive multiple messages. Should they\n",
    "# only receive the new style of email or should each email be random? For simplicity, we'll assume each individual \n",
    "# is only emailed once.\n",
    "\n",
    "#7. Make sure your experiment doesn't collide with other events or experiments. If you were testing marketing\n",
    "# strategies for football betting behavior right before the Super Bowl, for example, you might see some weird \n",
    "# behaviors that would make your findings not broadly applicable. You also don't want to test two things that are \n",
    "# related at the same time.\n",
    "\n",
    "#8. Another consideration is segmentation of your sample. Sometimes you don't want to test on the entire population.\n",
    "# Maybe you'll pick specific cities (in which case it may be appropriate to sample those in a representative fashion)\n",
    "# or test a specific age group or tenure of user. Make these decisions early as they will help inform later analysis \n",
    "# and possibly how the experiment is functionally set up. Here we'll just assume we're small enough to test on \n",
    "# the entire population.\n",
    "\n",
    "#9. Finally, it is good practice to give everyone a chance to review the research proposal and provide feedback\n",
    "\n",
    "# Let's say we flipped the switch and turned the experiment on at 10% on April 1, 2016.\n"
   ]
  },
  {
   "cell_type": "code",
   "execution_count": null,
   "metadata": {},
   "outputs": [],
   "source": []
  },
  {
   "cell_type": "code",
   "execution_count": 6,
   "metadata": {},
   "outputs": [
    {
     "data": {
      "text/html": [
       "<div>\n",
       "<style scoped>\n",
       "    .dataframe tbody tr th:only-of-type {\n",
       "        vertical-align: middle;\n",
       "    }\n",
       "\n",
       "    .dataframe tbody tr th {\n",
       "        vertical-align: top;\n",
       "    }\n",
       "\n",
       "    .dataframe thead th {\n",
       "        text-align: right;\n",
       "    }\n",
       "</style>\n",
       "<table border=\"1\" class=\"dataframe\">\n",
       "  <thead>\n",
       "    <tr style=\"text-align: right;\">\n",
       "      <th></th>\n",
       "      <th>treatment_date</th>\n",
       "      <th>test</th>\n",
       "      <th>is_signed_up</th>\n",
       "      <th>signup_date</th>\n",
       "    </tr>\n",
       "  </thead>\n",
       "  <tbody>\n",
       "    <tr>\n",
       "      <th>0</th>\n",
       "      <td>2016-04-01</td>\n",
       "      <td>0</td>\n",
       "      <td>0</td>\n",
       "      <td>NaN</td>\n",
       "    </tr>\n",
       "    <tr>\n",
       "      <th>1</th>\n",
       "      <td>2016-04-01</td>\n",
       "      <td>0</td>\n",
       "      <td>0</td>\n",
       "      <td>NaN</td>\n",
       "    </tr>\n",
       "    <tr>\n",
       "      <th>2</th>\n",
       "      <td>2016-04-01</td>\n",
       "      <td>0</td>\n",
       "      <td>0</td>\n",
       "      <td>NaN</td>\n",
       "    </tr>\n",
       "    <tr>\n",
       "      <th>3</th>\n",
       "      <td>2016-04-01</td>\n",
       "      <td>0</td>\n",
       "      <td>0</td>\n",
       "      <td>NaN</td>\n",
       "    </tr>\n",
       "    <tr>\n",
       "      <th>4</th>\n",
       "      <td>2016-04-01</td>\n",
       "      <td>0</td>\n",
       "      <td>0</td>\n",
       "      <td>NaN</td>\n",
       "    </tr>\n",
       "    <tr>\n",
       "      <th>5</th>\n",
       "      <td>2016-04-01</td>\n",
       "      <td>0</td>\n",
       "      <td>0</td>\n",
       "      <td>NaN</td>\n",
       "    </tr>\n",
       "    <tr>\n",
       "      <th>6</th>\n",
       "      <td>2016-04-01</td>\n",
       "      <td>1</td>\n",
       "      <td>1</td>\n",
       "      <td>2016-04-02</td>\n",
       "    </tr>\n",
       "    <tr>\n",
       "      <th>7</th>\n",
       "      <td>2016-04-01</td>\n",
       "      <td>0</td>\n",
       "      <td>0</td>\n",
       "      <td>NaN</td>\n",
       "    </tr>\n",
       "    <tr>\n",
       "      <th>8</th>\n",
       "      <td>2016-04-01</td>\n",
       "      <td>0</td>\n",
       "      <td>0</td>\n",
       "      <td>NaN</td>\n",
       "    </tr>\n",
       "    <tr>\n",
       "      <th>9</th>\n",
       "      <td>2016-04-01</td>\n",
       "      <td>0</td>\n",
       "      <td>0</td>\n",
       "      <td>NaN</td>\n",
       "    </tr>\n",
       "  </tbody>\n",
       "</table>\n",
       "</div>"
      ],
      "text/plain": [
       "  treatment_date  test  is_signed_up signup_date\n",
       "0     2016-04-01     0             0         NaN\n",
       "1     2016-04-01     0             0         NaN\n",
       "2     2016-04-01     0             0         NaN\n",
       "3     2016-04-01     0             0         NaN\n",
       "4     2016-04-01     0             0         NaN\n",
       "5     2016-04-01     0             0         NaN\n",
       "6     2016-04-01     1             1  2016-04-02\n",
       "7     2016-04-01     0             0         NaN\n",
       "8     2016-04-01     0             0         NaN\n",
       "9     2016-04-01     0             0         NaN"
      ]
     },
     "execution_count": 6,
     "metadata": {},
     "output_type": "execute_result"
    }
   ],
   "source": [
    "%matplotlib inline\n",
    "import pandas as pd\n",
    "import numpy as np\n",
    "import seaborn as sns\n",
    "from matplotlib import pyplot as plt\n",
    "from scipy import stats\n",
    "\n",
    "df = pd.read_csv('data.csv')\n",
    "df.head(n=10)"
   ]
  },
  {
   "cell_type": "code",
   "execution_count": null,
   "metadata": {},
   "outputs": [],
   "source": [
    "# treatment_date shows the date of the email being sent\n",
    "# test is a binary indicator if they were in test or control\n",
    "# is_signed_up shows if they successfully signed up\n",
    "# signup_date is the date of signup."
   ]
  },
  {
   "cell_type": "code",
   "execution_count": 42,
   "metadata": {},
   "outputs": [
    {
     "name": "stdout",
     "output_type": "stream",
     "text": [
      "('the size of the test group', 3372)\n",
      "('the size of the control goroup', 30241)\n",
      "('the size of the test group as a percentage of the whole %', 0.1003)\n",
      "('the size of the control goroup as a percentage of the whole %', 0.8997)\n"
     ]
    }
   ],
   "source": [
    " #How large is each group?\n",
    "\n",
    "print ('the size of the test group',df['test'].sum())\n",
    "print ('the size of the control goroup',len(df['test']) - df['test'].sum() )\n",
    "per = float(df['test'].sum())/float(len(df['test']))\n",
    "print ('the size of the test group as a percentage of the whole %', round(per, 4))\n",
    "print ('the size of the control goroup as a percentage of the whole %', round((1-per), 4))"
   ]
  },
  {
   "cell_type": "code",
   "execution_count": 68,
   "metadata": {},
   "outputs": [
    {
     "name": "stdout",
     "output_type": "stream",
     "text": [
      "signup rate for test 0.13701%\n",
      "signup rate for control 0.1471%\n"
     ]
    }
   ],
   "source": [
    "# What is the signup rate of test and control?\n",
    "\n",
    "# signup rate for test\n",
    "signup_rate_test = float(df['test'][ (df.test == 1) & (df.is_signed_up == 1)].count())/float(df['test'][ df.test == 1].count())\n",
    "print ('signup rate for test {}%'.format(round(signup_rate_test, 5)))\n",
    "\n",
    "#signup rate for control\n",
    "signup_rate_control = float(df['test'][ (df.test == 0) & (df.is_signed_up == 1)].count())/float(df['test'][ df.test == 0].count())\n",
    "print ('signup rate for control {}%'.format(round(signup_rate_control, 4)))\n"
   ]
  },
  {
   "cell_type": "code",
   "execution_count": 77,
   "metadata": {},
   "outputs": [
    {
     "name": "stdout",
     "output_type": "stream",
     "text": [
      "('t stat:', -1.5711354292574262)\n",
      "('p value:', 0.11616060761145311)\n"
     ]
    }
   ],
   "source": [
    "# Are the test and control groups significantly different?\n",
    "a = df['is_signed_up'][ (df.test == 1) ].values\n",
    "b = df['is_signed_up'][ (df.test == 0) ].values\n",
    "\n",
    "t, p = stats.ttest_ind(a,b)\n",
    "\n",
    "print ('t stat:', t)\n",
    "print ('p value:', p)"
   ]
  },
  {
   "cell_type": "code",
   "execution_count": null,
   "metadata": {},
   "outputs": [],
   "source": [
    "# P value indicates that the values of test and control group are not significantly different.\n",
    "# So the groups are not significantly different, and indications do not seem great. \n",
    "# The test signup rate seems lower than the old message. "
   ]
  },
  {
   "cell_type": "code",
   "execution_count": null,
   "metadata": {},
   "outputs": [],
   "source": [
    "# The conversion rate for the test group seem to be lower. Let' try to understand why by looking at the second metric: \n",
    "# the time it took to signup for both groups"
   ]
  },
  {
   "cell_type": "code",
   "execution_count": 78,
   "metadata": {},
   "outputs": [
    {
     "data": {
      "text/plain": [
       "treatment_date    object\n",
       "test               int64\n",
       "is_signed_up       int64\n",
       "signup_date       object\n",
       "dtype: object"
      ]
     },
     "execution_count": 78,
     "metadata": {},
     "output_type": "execute_result"
    }
   ],
   "source": [
    "df.dtypes"
   ]
  },
  {
   "cell_type": "code",
   "execution_count": 101,
   "metadata": {},
   "outputs": [
    {
     "name": "stdout",
     "output_type": "stream",
     "text": [
      "0    NaN\n",
      "1    NaN\n",
      "2    NaN\n",
      "3    NaN\n",
      "4    NaN\n",
      "5    NaN\n",
      "6    1.0\n",
      "Name: days_diff, dtype: float64\n",
      "    treatment_date  test  is_signed_up signup_date  days_diff\n",
      "6       2016-04-01     1             1  2016-04-02        1.0\n",
      "111     2016-04-01     1             1  2016-04-13       12.0\n",
      "133     2016-04-01     1             1  2016-04-06        5.0\n",
      "173     2016-04-01     1             1  2016-04-06        5.0\n",
      "185     2016-04-01     1             1  2016-04-03        2.0\n",
      "   treatment_date  test  is_signed_up signup_date  days_diff\n",
      "29     2016-04-01     0             1  2016-04-02        1.0\n",
      "35     2016-04-01     0             1  2016-04-03        2.0\n",
      "36     2016-04-01     0             1  2016-04-05        4.0\n",
      "37     2016-04-01     0             1  2016-04-05        4.0\n",
      "42     2016-04-01     0             1  2016-04-02        1.0\n"
     ]
    }
   ],
   "source": [
    "df['signup_date'] =  pd.to_datetime(df['signup_date'], format='%Y-%m-%d')\n",
    "df['treatment_date'] =  pd.to_datetime(df['treatment_date'], format='%Y-%m-%d')\n",
    "\n",
    "df['days_diff'] = (df['signup_date']-df['treatment_date']).dt.days\n",
    "\n",
    "\n",
    "print df['days_diff'].head(n=7)\n",
    "\n",
    "df1 = df[(df['test']==1)&(df['is_signed_up']==1)]\n",
    "print df1.head()\n",
    "\n",
    "df2 = df[(df['test']==0)&(df['is_signed_up']==1)]\n",
    "print df2.head()"
   ]
  },
  {
   "cell_type": "code",
   "execution_count": 103,
   "metadata": {},
   "outputs": [
    {
     "name": "stdout",
     "output_type": "stream",
     "text": [
      "10.392188779729967 4.885640608518937e-25\n"
     ]
    }
   ],
   "source": [
    "c = df1['days_diff'].values\n",
    "d = df2['days_diff'].values\n",
    "t, p = stats.ttest_ind(c,d)\n",
    "\n",
    "print t, p"
   ]
  },
  {
   "cell_type": "code",
   "execution_count": 112,
   "metadata": {},
   "outputs": [
    {
     "data": {
      "image/png": "[encoded data removed]",
      "text/plain": [
       "<Figure size 432x288 with 1 Axes>"
      ]
     },
     "metadata": {
      "needs_background": "light"
     },
     "output_type": "display_data"
    },
    {
     "data": {
      "text/html": [
       "<div>\n",
       "<style scoped>\n",
       "    .dataframe tbody tr th:only-of-type {\n",
       "        vertical-align: middle;\n",
       "    }\n",
       "\n",
       "    .dataframe tbody tr th {\n",
       "        vertical-align: top;\n",
       "    }\n",
       "\n",
       "    .dataframe thead th {\n",
       "        text-align: right;\n",
       "    }\n",
       "</style>\n",
       "<table border=\"1\" class=\"dataframe\">\n",
       "  <thead>\n",
       "    <tr style=\"text-align: right;\">\n",
       "      <th></th>\n",
       "      <th>treatment_date</th>\n",
       "      <th>test</th>\n",
       "      <th>is_signed_up</th>\n",
       "      <th>signup_date</th>\n",
       "      <th>days_diff</th>\n",
       "    </tr>\n",
       "  </thead>\n",
       "  <tbody>\n",
       "    <tr>\n",
       "      <th>0</th>\n",
       "      <td>2016-04-01</td>\n",
       "      <td>0</td>\n",
       "      <td>0</td>\n",
       "      <td>NaT</td>\n",
       "      <td>NaN</td>\n",
       "    </tr>\n",
       "    <tr>\n",
       "      <th>1</th>\n",
       "      <td>2016-04-01</td>\n",
       "      <td>0</td>\n",
       "      <td>0</td>\n",
       "      <td>NaT</td>\n",
       "      <td>NaN</td>\n",
       "    </tr>\n",
       "    <tr>\n",
       "      <th>2</th>\n",
       "      <td>2016-04-01</td>\n",
       "      <td>0</td>\n",
       "      <td>0</td>\n",
       "      <td>NaT</td>\n",
       "      <td>NaN</td>\n",
       "    </tr>\n",
       "    <tr>\n",
       "      <th>3</th>\n",
       "      <td>2016-04-01</td>\n",
       "      <td>0</td>\n",
       "      <td>0</td>\n",
       "      <td>NaT</td>\n",
       "      <td>NaN</td>\n",
       "    </tr>\n",
       "    <tr>\n",
       "      <th>4</th>\n",
       "      <td>2016-04-01</td>\n",
       "      <td>0</td>\n",
       "      <td>0</td>\n",
       "      <td>NaT</td>\n",
       "      <td>NaN</td>\n",
       "    </tr>\n",
       "  </tbody>\n",
       "</table>\n",
       "</div>"
      ],
      "text/plain": [
       "  treatment_date  test  is_signed_up signup_date  days_diff\n",
       "0     2016-04-01     0             0         NaT        NaN\n",
       "1     2016-04-01     0             0         NaT        NaN\n",
       "2     2016-04-01     0             0         NaT        NaN\n",
       "3     2016-04-01     0             0         NaT        NaN\n",
       "4     2016-04-01     0             0         NaT        NaN"
      ]
     },
     "execution_count": 112,
     "metadata": {},
     "output_type": "execute_result"
    }
   ],
   "source": [
    "fig = df[df.test==1][['treatment_date', 'is_signed_up']].groupby('treatment_date').mean().plot()\n",
    "df[df.test==0][['treatment_date', 'is_signed_up']].groupby('treatment_date').mean().plot(ax=fig)\n",
    "plt.legend(['test','control'])\n",
    "plt.title('Comparing Signup Rates by Treatment Date')\n",
    "plt.show()\n",
    "df[df.test==1][['treatment_date', 'is_signed_up']].groupby('treatment_date').describe()\n",
    "df.head()"
   ]
  },
  {
   "cell_type": "code",
   "execution_count": 123,
   "metadata": {},
   "outputs": [
    {
     "name": "stdout",
     "output_type": "stream",
     "text": [
      "2016-04-01T00:00:00.000000000  t, p values:  1.171015382328547 0.24172432121696255\n",
      "2016-04-02T00:00:00.000000000  t, p values:  0.39163213374090855 0.6953630758340448\n",
      "2016-04-03T00:00:00.000000000  t, p values:  0.24114731791032132 0.8094651742723448\n",
      "2016-04-04T00:00:00.000000000  t, p values:  1.006146671265253 0.3144281887767212\n",
      "2016-04-05T00:00:00.000000000  t, p values:  1.7950152227404037 0.0727950243234006\n",
      "2016-04-06T00:00:00.000000000  t, p values:  -0.07142256949339083 0.9430681183812821\n",
      "2016-04-07T00:00:00.000000000  t, p values:  -0.99645401324533 0.31911047625459077\n",
      "2016-04-08T00:00:00.000000000  t, p values:  -1.4059315672051254 0.1598930922410899\n",
      "2016-04-09T00:00:00.000000000  t, p values:  -2.772772511643487 0.0055926512303104605\n",
      "2016-04-10T00:00:00.000000000  t, p values:  -1.301097855458891 0.19332775805677105\n",
      "2016-04-11T00:00:00.000000000  t, p values:  -1.6243695706046337 0.10443285596458776\n",
      "2016-04-12T00:00:00.000000000  t, p values:  -2.559540254853317 0.010550250694229046\n",
      "2016-04-13T00:00:00.000000000  t, p values:  -0.851793126290792 0.3944212121535955\n",
      "2016-04-14T00:00:00.000000000  t, p values:  0.014473352887334019 0.9884536957336474\n"
     ]
    }
   ],
   "source": [
    "for i in df['treatment_date'].unique():\n",
    "    c = df[(df.test==0)& (df.treatment_date== i) ]\n",
    "    d = df[(df.test==1)&(df.treatment_date== i) ]\n",
    "    #print c.head(n=2)\n",
    "    t, p = stats.ttest_ind(d['is_signed_up'].values,c['is_signed_up'].values)\n",
    "    print i, ' t, p values: ',t, p"
   ]
  },
  {
   "cell_type": "code",
   "execution_count": null,
   "metadata": {},
   "outputs": [],
   "source": [
    "# So what you see is that the test group is converting slower than the control group. But if you look just at the\n",
    "# group treated in the first few days,they're not that different in signup rate. The rates seem to converge as time \n",
    "# passes after sending the email.\n",
    "\n",
    "# This means the difference could be a time effect rather than a rate effect.\n",
    "# Time plays a huge role in almost all experiments. Not all behaviors are immediate.\n",
    "# Sometimes it takes a while to figure out a new feature. Other times there is novelty effect from the new feature\n",
    "# that leads to a spike in activity. \n",
    "\n",
    "# We could wait here, but that time feature has me feeling pretty comfortable that any damage to signup rate will \n",
    "# get lower with time, so I say let's roll out to 50% for another two weeks to see if the time effect will be lessened\n"
   ]
  },
  {
   "cell_type": "code",
   "execution_count": null,
   "metadata": {},
   "outputs": [],
   "source": [
    "# Experiment Wrap Up\n",
    "\n",
    "# Two more weeks go by and you have enough people in your sample so you now turn the experiment off. \n",
    "# No more users will be given a test email. Now it's time to analyze what happened and see how the new email is\n",
    "# performing."
   ]
  },
  {
   "cell_type": "code",
   "execution_count": 7,
   "metadata": {},
   "outputs": [
    {
     "data": {
      "text/html": [
       "<div>\n",
       "<style scoped>\n",
       "    .dataframe tbody tr th:only-of-type {\n",
       "        vertical-align: middle;\n",
       "    }\n",
       "\n",
       "    .dataframe tbody tr th {\n",
       "        vertical-align: top;\n",
       "    }\n",
       "\n",
       "    .dataframe thead th {\n",
       "        text-align: right;\n",
       "    }\n",
       "</style>\n",
       "<table border=\"1\" class=\"dataframe\">\n",
       "  <thead>\n",
       "    <tr style=\"text-align: right;\">\n",
       "      <th></th>\n",
       "      <th>treatment_date</th>\n",
       "      <th>test</th>\n",
       "      <th>is_signed_up</th>\n",
       "      <th>signup_date</th>\n",
       "    </tr>\n",
       "  </thead>\n",
       "  <tbody>\n",
       "    <tr>\n",
       "      <th>66723</th>\n",
       "      <td>2016-04-28</td>\n",
       "      <td>0</td>\n",
       "      <td>1</td>\n",
       "      <td>2016-04-29</td>\n",
       "    </tr>\n",
       "    <tr>\n",
       "      <th>66724</th>\n",
       "      <td>2016-04-28</td>\n",
       "      <td>0</td>\n",
       "      <td>1</td>\n",
       "      <td>2016-05-02</td>\n",
       "    </tr>\n",
       "    <tr>\n",
       "      <th>66725</th>\n",
       "      <td>2016-04-28</td>\n",
       "      <td>1</td>\n",
       "      <td>0</td>\n",
       "      <td>NaN</td>\n",
       "    </tr>\n",
       "    <tr>\n",
       "      <th>66726</th>\n",
       "      <td>2016-04-28</td>\n",
       "      <td>1</td>\n",
       "      <td>1</td>\n",
       "      <td>2016-04-29</td>\n",
       "    </tr>\n",
       "    <tr>\n",
       "      <th>66727</th>\n",
       "      <td>2016-04-28</td>\n",
       "      <td>1</td>\n",
       "      <td>0</td>\n",
       "      <td>NaN</td>\n",
       "    </tr>\n",
       "  </tbody>\n",
       "</table>\n",
       "</div>"
      ],
      "text/plain": [
       "      treatment_date  test  is_signed_up signup_date\n",
       "66723     2016-04-28     0             1  2016-04-29\n",
       "66724     2016-04-28     0             1  2016-05-02\n",
       "66725     2016-04-28     1             0         NaN\n",
       "66726     2016-04-28     1             1  2016-04-29\n",
       "66727     2016-04-28     1             0         NaN"
      ]
     },
     "execution_count": 7,
     "metadata": {},
     "output_type": "execute_result"
    }
   ],
   "source": [
    "df = pd.read_csv('full_data.cav')\n",
    "df.tail()"
   ]
  },
  {
   "cell_type": "code",
   "execution_count": 8,
   "metadata": {},
   "outputs": [
    {
     "name": "stdout",
     "output_type": "stream",
     "text": [
      "('test sample size:', 19861)\n",
      "('control sample size:', 46867)\n",
      "('test proportion:', 0.2976411701234864)\n",
      "('test signup rate:', 0.2421328231206888)\n",
      "('control signup rate:', 0.19937269293959503)\n",
      " t, p values:  12.368130184147793 4.248167714911685e-35\n"
     ]
    }
   ],
   "source": [
    "# How large is each group?\n",
    "print('test sample size:', len(df[df.test == 1]))\n",
    "print('control sample size:', len(df[df.test == 0]))\n",
    "print('test proportion:', df.test.mean())\n",
    "#print('test proportion: ',float(len(df[df.test == 1]))/float(len(df))\n",
    "\n",
    "# What is the signup rate of test and control?\n",
    "print('test signup rate:', df[df.test == 1].is_signed_up.mean())\n",
    "print('control signup rate:', df[df.test == 0].is_signed_up.mean())\n",
    "\n",
    "e = df['is_signed_up'][df.test==1].values\n",
    "f = df['is_signed_up'][df.test==0].values\n",
    "t, p = stats.ttest_ind(e,f)\n",
    "print ' t, p values: ',t, p\n",
    "print 'conclusion: '"
   ]
  },
  {
   "cell_type": "code",
   "execution_count": null,
   "metadata": {},
   "outputs": [],
   "source": [
    "# This experiment got very significant after allowing for more time.\n",
    "# The new email seems to be a significant improvement on the old email, \n",
    "# but at a slower rate of conversion. So as long as BlueBird isn't desperate for signups in the next few days, \n",
    "# the change seems worth it. In this case, however, \n",
    "# it would also be worth working with the advertising and engineering teams to see if you could figure out \n",
    "# why conversation was slower for the test email. That could inform whether the effect might change over time."
   ]
  },
  {
   "cell_type": "code",
   "execution_count": 18,
   "metadata": {},
   "outputs": [
    {
     "name": "stdout",
     "output_type": "stream",
     "text": [
      "(19861, 46867, 4809.0, 9344.0)\n"
     ]
    }
   ],
   "source": [
    "test = len(df[df.test == 1])\n",
    "control = len(df[df.test == 0])\n",
    "test_signup = float(len(df[(df.test == 1)& (df.is_signed_up==1)]))\n",
    "control_signup = float(len(df[(df.test == 0)& (df.is_signed_up==1)]))\n",
    "print (test, control, test_signup,control_signup)\n",
    "print ('additional test: ')"
   ]
  },
  {
   "cell_type": "code",
   "execution_count": 19,
   "metadata": {},
   "outputs": [
    {
     "name": "stdout",
     "output_type": "stream",
     "text": [
      "(4.625476886928066e-35, 12.354162568395353)\n"
     ]
    }
   ],
   "source": [
    "from statsmodels.stats.proportion import proportions_ztest\n",
    "# 2 proportional z test\n",
    "\n",
    "nobs = np.array([test, control])\n",
    "count = np.array([test_signup, control_signup])\n",
    "z, pval = proportions_ztest(count, nobs)\n",
    "print (pval, z)\n",
    "print ('Here we can conclude that the two groups there is sufficient evidence at the 0.05 level \\\n",
    "       to conclude that the two populations differ with respect to their opinions concerning\\\n",
    "       email structure. Which means, two different versions of email are different from each other')"
   ]
  }
 ],
 "metadata": {
  "kernelspec": {
   "display_name": "Python 2",
   "language": "python",
   "name": "python2"
  },
  "language_info": {
   "codemirror_mode": {
    "name": "ipython",
    "version": 2
   },
   "file_extension": ".py",
   "mimetype": "text/x-python",
   "name": "python",
   "nbconvert_exporter": "python",
   "pygments_lexer": "ipython2",
   "version": "2.7.15"
  }
 },
 "nbformat": 4,
 "nbformat_minor": 2
}
