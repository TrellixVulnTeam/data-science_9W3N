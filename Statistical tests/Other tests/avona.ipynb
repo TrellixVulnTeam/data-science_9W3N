{
 "cells": [
  {
   "cell_type": "code",
   "execution_count": 19,
   "metadata": {},
   "outputs": [
    {
     "name": "stdout",
     "output_type": "stream",
     "text": [
      "[96. 74. 75. 69. 89. 57. 97. 72. 83. 78.]\n",
      "[70. 90. 80. 82. 62. 77. 84. 64. 72. 75.]\n",
      "[53. 60. 52. 67. 47. 44. 45. 50. 48. 67.]\n",
      "p value:  4.252303000661077e-62\n",
      "With such a low p value, we can conclude that at least one of the schoolshave scored considerably different from others. So let's look at the boxplot\n"
     ]
    }
   ],
   "source": [
    "# Anova tests\n",
    "# Example: average grade from 3 different schools are examined to see \n",
    "# if at least one school scored differently from others. Each school is assumed to have 100 students.\n",
    "import numpy as np\n",
    "from scipy.stats import f_oneway\n",
    "import numpy as np\n",
    "import matplotlib.pyplot as plt\n",
    "\n",
    "\n",
    "np.random.seed(1)\n",
    "\n",
    "#print np.random.randn(10)\n",
    "grade1 = np.random.normal(80, 10, 100).round()\n",
    "grade2 = np.random.normal(75, 12, 100).round()\n",
    "grade3 = np.random.normal(55, 6, 100).round()\n",
    "print grade1[:10]\n",
    "print grade2[:10]\n",
    "print grade3[:10]\n",
    "f, p =  f_oneway(grade1, grade2, grade3)\n",
    "print 'p value: ', p\n",
    "print (\"With such a low p value, we can conclude that at least one of the schools\\\n",
    "  have scored considerably different from others. So let's look at the boxplot\")"
   ]
  },
  {
   "cell_type": "code",
   "execution_count": 27,
   "metadata": {},
   "outputs": [
    {
     "data": {
      "image/png": "[encoded data removed]",
      "text/plain": [
       "<Figure size 432x288 with 1 Axes>"
      ]
     },
     "metadata": {
      "needs_background": "light"
     },
     "output_type": "display_data"
    }
   ],
   "source": [
    "data = [grade1, grade2, grade3]\n",
    "fig, ax = plt.subplots()\n",
    "ax.set_title('Anova comparison')\n",
    "ax.set(xlabel='school', ylabel='score')\n",
    "\n",
    "ax.boxplot(data)\n",
    "\n",
    "plt.show()"
   ]
  }
 ],
 "metadata": {
  "kernelspec": {
   "display_name": "Python 2",
   "language": "python",
   "name": "python2"
  },
  "language_info": {
   "codemirror_mode": {
    "name": "ipython",
    "version": 2
   },
   "file_extension": ".py",
   "mimetype": "text/x-python",
   "name": "python",
   "nbconvert_exporter": "python",
   "pygments_lexer": "ipython2",
   "version": "2.7.15"
  }
 },
 "nbformat": 4,
 "nbformat_minor": 2
}
