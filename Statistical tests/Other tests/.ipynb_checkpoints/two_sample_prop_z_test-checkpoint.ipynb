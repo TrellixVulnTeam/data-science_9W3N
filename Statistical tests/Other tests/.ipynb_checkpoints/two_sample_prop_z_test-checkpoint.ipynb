{
 "cells": [
  {
   "cell_type": "code",
   "execution_count": 9,
   "metadata": {},
   "outputs": [
    {
     "name": "stdout",
     "output_type": "stream",
     "text": [
      "(2.566230446480293e-19, 8.985900954503084)\n",
      "It is pretty clear by looking at the low p value and a z score above 1.96(5% significance level),       there is sufficient evidence at the 0.05 level to conclude that the two populations        differ with respect to their opinions concerning imposing a federal tax to help pay for health care reform.\n"
     ]
    }
   ],
   "source": [
    "import numpy as np\n",
    "from statsmodels.stats.proportion import proportions_ztest\n",
    "\n",
    "# 2 sample proportional z test is a statistic for testing the difference in two population proportions. \n",
    "# Example: Time magazine reported the result of a telephone poll of 800 adult Americans. \n",
    "#The question posed of the Americans who were surveyed was: \"Should the federal tax on cigarettes be raised to pay\n",
    "#for health care reform?\" The results of the survey were:\n",
    "# Non-Smokers\n",
    "n1 = 605\n",
    "y1 = 351\n",
    "p1 = 351/605 #= 0.51\n",
    "\n",
    "#Smokers\n",
    "n2 = 195\n",
    "y2 = 41\n",
    "p2 = 41/195# = 0.21\n",
    "\n",
    "#H_0 : p1-p2 = 0\n",
    "\n",
    "count = np.array([y1, y2])\n",
    "nobs = np.array([n1, n2])\n",
    "z, pval = proportions_ztest(count, nobs)\n",
    "print (pval, z)\n",
    "print ('It is pretty clear by looking at the low p value and a z score above 1.96(5% significance level with tails \\\n",
    "       on both side),there is sufficient evidence at the 0.05 level to conclude that the two populations \\\n",
    "       differ with respect to their opinions concerning imposing a federal tax to help pay for health care reform.')\n"
   ]
  },
  {
   "cell_type": "code",
   "execution_count": null,
   "metadata": {},
   "outputs": [],
   "source": []
  }
 ],
 "metadata": {
  "kernelspec": {
   "display_name": "Python 2",
   "language": "python",
   "name": "python2"
  },
  "language_info": {
   "codemirror_mode": {
    "name": "ipython",
    "version": 2
   },
   "file_extension": ".py",
   "mimetype": "text/x-python",
   "name": "python",
   "nbconvert_exporter": "python",
   "pygments_lexer": "ipython2",
   "version": "2.7.15"
  }
 },
 "nbformat": 4,
 "nbformat_minor": 2
}
