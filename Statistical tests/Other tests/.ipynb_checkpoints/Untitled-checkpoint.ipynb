{
 "cells": [
  {
   "cell_type": "code",
   "execution_count": 5,
   "metadata": {},
   "outputs": [
    {
     "name": "stdout",
     "output_type": "stream",
     "text": [
      "[96.24345364 73.88243586 74.71828248 69.27031378 88.65407629 56.98461303\n",
      " 97.44811764 72.38793099 83.19039096 77.50629625]\n"
     ]
    }
   ],
   "source": [
    "# Anova tests\n",
    "# Example: average grade from 3 different schools are examined to see \n",
    "# if at least one school scored differently from others. Each school is assumed to have 100 students.\n",
    "import numpy as np\n",
    "np.random.seed(1)\n",
    "#print np.random.randn(10)\n",
    "grade1 = np.random.normal(80, 10, 100)\n",
    "grade2 = np.random.normal(75, 12, 100)\n",
    "grade3 = np.random.normal(55, 6, 100)\n",
    "print grade1[:10]\n",
    "print grade2[:10]\n",
    "print grade3[:10]"
   ]
  }
 ],
 "metadata": {
  "kernelspec": {
   "display_name": "Python 2",
   "language": "python",
   "name": "python2"
  },
  "language_info": {
   "codemirror_mode": {
    "name": "ipython",
    "version": 2
   },
   "file_extension": ".py",
   "mimetype": "text/x-python",
   "name": "python",
   "nbconvert_exporter": "python",
   "pygments_lexer": "ipython2",
   "version": "2.7.15"
  }
 },
 "nbformat": 4,
 "nbformat_minor": 2
}
