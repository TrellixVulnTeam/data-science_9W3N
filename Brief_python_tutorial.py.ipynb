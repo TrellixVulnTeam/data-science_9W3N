{
 "cells": [
  {
   "cell_type": "code",
   "execution_count": 1,
   "metadata": {},
   "outputs": [
    {
     "name": "stdout",
     "output_type": "stream",
     "text": [
      "list1:  [1, 10, 3, 4, 5] \n",
      "sorted: [1, 3, 4, 5, 10]\n",
      "tuple1: (1, 2, 3, 4, 5) \n",
      "reversed list: [5, 4, 3, 10, 1] \n",
      "extended: [1, 10, 3, 4, 5, 1, 10, 3, 4, 5] \n",
      "list to a string: a-bc-cder\n",
      "back to list: ['a', 'bc', 'cder'] \n",
      "length of each part [1, 2, 4] for list2 \n",
      "[(1, 4), (1, 5), (2, 4), (2, 5), (3, 4), (3, 5)]\n",
      "list comprehension:  [1, 2, 3, 4, 5, 6, 7, 8, 9]\n",
      "even numbers:  [2, 4, 6, 8]\n",
      "even squares:  [4, 16, 36, 64]\n",
      "0 has the same length as even list:  [0, 0, 0, 0]\n",
      "lambda 10, 24\n",
      "The power of lambda is better shown when you use them as an anonymous function inside another function.\n",
      "31\n",
      "filter function:  [6, 8]\n",
      "map function:  [4, 16, 36, 64]\n",
      "reduce function:  384\n",
      "reduce returns accumulator while map returns sequence.\n"
     ]
    }
   ],
   "source": [
    "from itertools import product\n",
    "list1 = [1, 2, 3, 4, 5] # mutable\n",
    "tuple1 = (1, 2, 3, 4, 5) # immutable\n",
    "list2 = ['a', 'bc', 'cder']\n",
    "# 1. what does immutale mean?\n",
    "\n",
    "list1[1] = 10\n",
    "#tuple1[1] = 10 # will give you an error because it is immutable\n",
    "print 'list1:  {} '.format(list1)\n",
    "print 'sorted: {}'.format(sorted(list1) )\n",
    "print 'tuple1: {} '.format(tuple1)\n",
    "print 'reversed list: {} '.format(list1[::-1])\n",
    "list1.extend(list1)\n",
    "print 'extended: {} '.format(list1)\n",
    "str1 = '-'.join( list2)\n",
    "print 'list to a string: {}'.format( str1 )\n",
    "list1 = str1.split('-')\n",
    "print 'back to list: {} '.format(list1)\n",
    "print 'length of each part {} for list2 '.format(map(len, list2) )\n",
    "print list(product([1,2,3],[4,5]))\n",
    "print 'list comprehension: ', [i for i in range(1, 10)]\n",
    "even = [i for i in range(1, 10) if i%2==0]\n",
    "\n",
    "print 'even numbers: ', even\n",
    "print 'even squares: ', [x*x for x in even]\n",
    "print '0 has the same length as even list: ',[0 for _ in even]\n",
    "f = lambda x: x + 5\n",
    "x = lambda a, b, c: a* b* c\n",
    "print 'lambda {}, {}'.format( f(5), x(2, 3, 4))\n",
    "\n",
    "def func(n, b):\n",
    "    return lambda x: x+ n + b\n",
    "ten = func(10, 20)\n",
    "print 'The power of lambda is better shown when you use them as an anonymous function inside another function.'\n",
    "print ten(1)\n",
    "\n",
    "print 'filter function: ',filter(lambda x: x > 5,[2, 4, 6, 8])\n",
    "print 'map function: ', map(lambda x: x*x, [2, 4, 6, 8])\n",
    "import functools\n",
    "print 'reduce function: ', functools.reduce(lambda x, y: x * y, [2, 4, 6, 8])\n",
    "\n",
    "print 'reduce returns accumulator while map returns sequence.'"
   ]
  },
  {
   "cell_type": "code",
   "execution_count": 2,
   "metadata": {},
   "outputs": [
    {
     "name": "stdout",
     "output_type": "stream",
     "text": [
      "zipped: [('a', 'a'), ('bc', 'bc'), ('cder', 'cder')], one: ('a', 'bc', 'cder'), two:('a', 'bc', 'cder') \n",
      "enumerate: 0 a\n",
      "enumerate: 1 bc\n",
      "enumerate: 2 cder\n",
      "dict iteritem: a a \n",
      "dict iteritem: cder cder \n",
      "dict iteritem: bc bc \n",
      "keys: ['a', 'cder', 'bc'], values: ['a', 'cder', 'bc']\n"
     ]
    }
   ],
   "source": [
    "\n",
    "# zip it\n",
    "zipped1 = zip(list1, list1)\n",
    "# unzip it\n",
    "one, two = zip(* zipped1)\n",
    "print 'zipped: {}, one: {}, two:{} '.format(zipped1, one, two)\n",
    "# enumerate\n",
    "for a, b in enumerate(list1):\n",
    "    print \"enumerate: {} {}\".format(a, b)\n",
    "# dict from lists\n",
    "dict1 = dict(zip (list1, list1)) \n",
    "\n",
    "# gone for Python 3\n",
    "for a, b in dict1.iteritems():\n",
    "    print 'dict iteritem: {} {} '.format(a, b)\n",
    "print \"keys: {}, values: {}\".format(dict1.keys(), dict1.values() )    "
   ]
  },
  {
   "cell_type": "code",
   "execution_count": 3,
   "metadata": {},
   "outputs": [],
   "source": [
    "# file writing with append \n",
    "with open('text.txt', 'a+') as file1:\n",
    "    file1.write('hello')"
   ]
  },
  {
   "cell_type": "code",
   "execution_count": 4,
   "metadata": {},
   "outputs": [
    {
     "name": "stdout",
     "output_type": "stream",
     "text": [
      "yield:  1\n",
      "yield:  2\n",
      "yield:  3\n",
      "arguments: (1, 2)\n",
      "key word arguments {'key2': 'word', 'key': 'key'} \n"
     ]
    }
   ],
   "source": [
    "# generators and iterators: takes more than 1 item and unlike return, it is not stored in the memory \n",
    "def arguments():\n",
    "    yield 1\n",
    "    yield 2\n",
    "    yield 3\n",
    "    \n",
    "for i in arguments():\n",
    "    print 'yield: ', i\n",
    "\n",
    "def args(*args, **kwargs):\n",
    "    yield 'arguments: {}'.format(args) \n",
    "    yield 'key word arguments {} '.format(kwargs)\n",
    "    \n",
    "for i in args(1, 2, key='key', key2='word'):\n",
    "    print i\n"
   ]
  },
  {
   "cell_type": "code",
   "execution_count": 5,
   "metadata": {},
   "outputs": [
    {
     "name": "stdout",
     "output_type": "stream",
     "text": [
      "  fir sec  thi\n",
      "0   1   a   10\n",
      "2   3   b   30\n",
      "1   2   c   20\n",
      "4       d   50\n",
      "3   4   e   40\n",
      "5   6   f   60\n",
      "fir    object\n",
      "sec    object\n",
      "thi     int64\n",
      "dtype: object\n",
      "0    A\n",
      "1    C\n",
      "2    B\n",
      "3    E\n",
      "4    D\n",
      "5    F\n",
      "Name: sec, dtype: object\n",
      "   fir  sec  thi\n",
      "4  6.0  4.0  5.0\n",
      "5  5.0  6.0  6.0\n",
      "3  4.0  5.0  4.0\n",
      "2  3.0  2.0  3.0\n",
      "1  2.0  3.0  2.0\n",
      "0  1.0  1.0  1.0\n"
     ]
    }
   ],
   "source": [
    "# pandas\n",
    "import pandas as pd\n",
    "import numpy as np\n",
    "\n",
    "df1 = pd.DataFrame(data =list(zip([1, 2, 3, 4,  '', 6],['a', 'c', 'b', 'e', 'd', 'f'], [10, 20, 30, 40, 50, 60])),\n",
    "                   index = range(0,6), columns= ['fir', 'sec', 'thi'])\n",
    "print df1.sort_values('sec')\n",
    "print df1.dtypes\n",
    "print df1['sec'].map(str.upper )\n",
    "# ranks assigns values\n",
    "print df1.sort_values(by='fir', ascending = False).rank()"
   ]
  },
  {
   "cell_type": "code",
   "execution_count": 6,
   "metadata": {},
   "outputs": [
    {
     "name": "stdout",
     "output_type": "stream",
     "text": [
      "                 b           d           e\n",
      "Utah   -169.223126   17.669819  136.937262\n",
      "Ohio    -80.035736   93.079450 -157.892276\n",
      "Texas    -2.985120   16.952786 -167.780630\n",
      "Oregon  111.205885 -143.355786 -248.901957 \n",
      "\n",
      "Applying a function on arrays to each column or row. 1) Apply for both DF and Series, 2) Applymap for DF and  3) Map for Series!\n",
      "\n",
      "apply is  \n",
      "                 b           d           e\n",
      "Utah   -338.446252   35.339637  273.874525\n",
      "Ohio   -160.071473  186.158900 -315.784553\n",
      "Texas    -5.970240   33.905573 -335.561260\n",
      "Oregon  222.411770 -286.711573 -497.803914\n",
      "applymap is for df: \n",
      "                 b           d           e\n",
      "Utah   -338.446252   35.339637  273.874525\n",
      "Ohio   -160.071473  186.158900 -315.784553\n",
      "Texas    -5.970240   33.905573 -335.561260\n",
      "Oregon  222.411770 -286.711573 -497.803914 \n",
      "\n",
      "map is for series or columns:  Utah     -338.446252\n",
      "Ohio     -160.071473\n",
      "Texas      -5.970240\n",
      "Oregon    222.411770\n",
      "Name: b, dtype: float64 \n",
      "Utah     -338.446252\n",
      "Ohio     -160.071473\n",
      "Texas      -5.970240\n",
      "Oregon    222.411770\n",
      "Name: b, dtype: float64 \n",
      "\n",
      "50% being sampled: \n",
      "               b          d           e\n",
      "Texas  -2.985120  16.952786 -167.780630\n",
      "Ohio  -80.035736  93.079450 -157.892276 \n",
      "\n",
      "first 3 rows:                  b          d           e\n",
      "Utah  -169.223126  17.669819  136.937262\n",
      "Ohio   -80.035736  93.079450 -157.892276\n",
      "Texas   -2.985120  16.952786 -167.780630\n"
     ]
    }
   ],
   "source": [
    "f = lambda x : x **0.5\n",
    "f1 =lambda x: x + x\n",
    "#df1.applymap(f)\n",
    "\n",
    "df2 = pd.DataFrame(np.random.randn(4, 3)*100, columns=list('bde'), index=['Utah', 'Ohio', 'Texas', 'Oregon'])\n",
    "df2 = df2.drop_duplicates()\n",
    "print df2, '\\n'\n",
    "print 'Applying a function on arrays to each column or row. 1) Apply for both DF and Series, 2) Applymap for DF and \\\n",
    " 3) Map for Series!\\n'\n",
    "print 'apply is  \\n', df2.apply(f1)\n",
    "print 'applymap is for df: \\n',df2.applymap(f1), '\\n'\n",
    "print 'map is for series or columns: ',df2['b'].map(f1),'\\n', df2['b'].apply(f1), '\\n'\n",
    "print '50% being sampled: \\n',df2.sample(frac=0.5), '\\n'\n",
    "print 'first 3 rows: ',df2.iloc[0:3]\n"
   ]
  },
  {
   "cell_type": "code",
   "execution_count": 7,
   "metadata": {},
   "outputs": [
    {
     "name": "stdout",
     "output_type": "stream",
     "text": [
      "dropping column: \n",
      "\n",
      "  fir sec  thi\n",
      "0   1   a   10\n",
      "1   2   c   20\n",
      "2   3   b   30\n",
      "3   4   e   40\n",
      "4       d   50\n",
      "5   6   f   60\n",
      "  first sec  thi\n",
      "0     1   a   10\n",
      "1     2   c   20\n",
      "2     3   b   30\n",
      "3     4   e   40\n",
      "4         d   50\n",
      "5     6   f   60 \n",
      "\n",
      "method chaining: \n",
      "    var value\n",
      "3   fir     4\n",
      "4   fir      \n",
      "5   fir     6\n",
      "6   sec     a\n",
      "7   sec     c\n",
      "8   sec     b\n",
      "9   sec     e\n",
      "10  sec     d\n",
      "11  sec     f\n",
      "12  thi    10\n",
      "13  thi    20\n",
      "14  thi    30\n",
      "15  thi    40\n",
      "16  thi    50\n",
      "17  thi    60\n",
      "var  fir  sec  thi\n",
      "0      4  NaN  NaN\n",
      "1         NaN  NaN\n",
      "2      6  NaN  NaN\n",
      "3    NaN    a  NaN\n",
      "4    NaN    c  NaN\n",
      "5    NaN    b  NaN\n",
      "6    NaN    e  NaN\n",
      "7    NaN    d  NaN\n",
      "8    NaN    f  NaN\n",
      "9    NaN  NaN   10\n",
      "10   NaN  NaN   20\n",
      "11   NaN  NaN   30\n",
      "12   NaN  NaN   40\n",
      "13   NaN  NaN   50\n",
      "14   NaN  NaN   60\n"
     ]
    }
   ],
   "source": [
    "print 'dropping column: \\n'\n",
    "#df1.drop(columns = ['sec'], inplace=True)# df1.drop(['sec'], axis=1, inplace=True)\n",
    "print df1.reset_index(drop=True)# so that index doesn't become a column\n",
    "print df1.rename(columns={'fir':'first'}), '\\n'\n",
    "print 'method chaining: '\n",
    "df3 = pd.melt(df1).rename(columns={'variable':'var'}).query('value>=4')\n",
    "print df3\n",
    "df4 = df3.pivot(columns='var', values='value').reset_index(drop=True)\n",
    "print df4\n",
    "#print df4.reset_index(inplace=True)\n"
   ]
  },
  {
   "cell_type": "code",
   "execution_count": 8,
   "metadata": {},
   "outputs": [
    {
     "name": "stdout",
     "output_type": "stream",
     "text": [
      "b    4\n",
      "d    4\n",
      "e    4\n",
      "dtype: int64  vs \n",
      " 111.205885    1\n",
      "-2.985120      1\n",
      "-80.035736     1\n",
      "-169.223126    1\n",
      "Name: b, dtype: int64\n"
     ]
    }
   ],
   "source": [
    "print df2.nunique(),' vs \\n', df2['b'].value_counts()"
   ]
  },
  {
   "cell_type": "code",
   "execution_count": 9,
   "metadata": {},
   "outputs": [
    {
     "name": "stdout",
     "output_type": "stream",
     "text": [
      "                 b           d           e             a             c\n",
      "Utah   -169.223126   17.669819  136.937262  -2990.141936  -3159.365062\n",
      "Ohio    -80.035736   93.079450 -157.892276  -7449.682347  -7529.718083\n",
      "Texas    -2.985120   16.952786 -167.780630    -50.606104    -53.591225\n",
      "Oregon  111.205885 -143.355786 -248.901957 -15942.007103 -15830.801218\n"
     ]
    }
   ],
   "source": [
    "df2['a'] = df2['b']*df2['d']\n",
    "\n",
    "df2 = df2.assign(c = lambda df2: df2.a+df2.b)\n",
    "print df2"
   ]
  },
  {
   "cell_type": "code",
   "execution_count": 10,
   "metadata": {},
   "outputs": [
    {
     "name": "stdout",
     "output_type": "stream",
     "text": [
      "binning into 4 equally spaced buckets \n",
      " \n",
      "                 b           d           e             a             c  \\\n",
      "Utah   -169.223126   17.669819  136.937262  -2990.141936  -3159.365062   \n",
      "Ohio    -80.035736   93.079450 -157.892276  -7449.682347  -7529.718083   \n",
      "Texas    -2.985120   16.952786 -167.780630    -50.606104    -53.591225   \n",
      "Oregon  111.205885 -143.355786 -248.901957 -15942.007103 -15830.801218   \n",
      "\n",
      "                           f  \n",
      "Utah    (-169.224, -102.333]  \n",
      "Ohio      (-102.333, -41.51]  \n",
      "Texas       (-41.51, 25.563]  \n",
      "Oregon     (25.563, 111.206]  \n",
      "trimming values to the closest threshold: \n",
      "               b     d     e\n",
      "Utah   -10.00000  10.0  10.0\n",
      "Ohio   -10.00000  10.0 -10.0\n",
      "Texas   -2.98512  10.0 -10.0\n",
      "Oregon  10.00000 -10.0 -10.0\n"
     ]
    }
   ],
   "source": [
    "print 'binning into 4 equally spaced buckets \\n '\n",
    "df2['f'] = pd.qcut(df2.b, 4)\n",
    "print df2\n",
    "print 'trimming values to the closest threshold: \\n', df2[['b','d','e']].clip(lower=-10, upper=10)"
   ]
  },
  {
   "cell_type": "code",
   "execution_count": 11,
   "metadata": {},
   "outputs": [
    {
     "name": "stdout",
     "output_type": "stream",
     "text": [
      "                 b           d           e\n",
      "Utah   -169.223126   17.669819  136.937262\n",
      "Ohio   -249.258862  110.749269  -20.955014\n",
      "Texas  -252.243982  127.702055 -188.735644\n",
      "Oregon -141.038097  -15.653731 -437.637601\n",
      "                 b          d           e\n",
      "Utah           NaN        NaN         NaN\n",
      "Ohio   -169.223126  17.669819  136.937262\n",
      "Texas   -80.035736  93.079450 -157.892276\n",
      "Oregon   -2.985120  16.952786 -167.780630\n",
      "                 b           d           e\n",
      "Utah    -80.035736   93.079450 -157.892276\n",
      "Ohio     -2.985120   16.952786 -167.780630\n",
      "Texas   111.205885 -143.355786 -248.901957\n",
      "Oregon         NaN         NaN         NaN\n",
      "          b    d    e\n",
      "Utah    1.0  3.0  4.0\n",
      "Ohio    2.0  4.0  3.0\n",
      "Texas   3.0  2.0  2.0\n",
      "Oregon  4.0  1.0  1.0\n",
      "           b     d     e\n",
      "Utah    0.25  0.75  1.00\n",
      "Ohio    0.50  1.00  0.75\n",
      "Texas   0.75  0.50  0.50\n",
      "Oregon  1.00  0.25  0.25\n",
      "          b    d    e\n",
      "Utah    1.0  3.0  4.0\n",
      "Ohio    2.0  4.0  3.0\n",
      "Texas   3.0  2.0  2.0\n",
      "Oregon  4.0  1.0  1.0\n"
     ]
    }
   ],
   "source": [
    "print df2[['b','d','e']].cumsum()#.size()\n",
    "print df2[['b','d','e']].shift(1)\n",
    "print df2[['b','d','e']].shift(-1)\n",
    "print df2[['b','d','e']].rank(method='dense')\n",
    "print df2[['b','d','e']].rank(pct=True)\n",
    "print df2[['b','d','e']].rank(method='first')\n"
   ]
  },
  {
   "cell_type": "code",
   "execution_count": 12,
   "metadata": {},
   "outputs": [
    {
     "name": "stdout",
     "output_type": "stream",
     "text": [
      "                 b           d           e\n",
      "Utah   -169.223126   17.669819  136.937262\n",
      "Ohio    -80.035736   93.079450 -157.892276\n",
      "Texas    -2.985120   16.952786 -167.780630\n",
      "Oregon  111.205885 -143.355786 -248.901957\n",
      "          b    d    e\n",
      "Utah    1.0  1.0  1.0\n",
      "Ohio    2.0  2.0  2.0\n",
      "Texas   3.0  3.0  3.0\n",
      "Oregon  4.0  4.0  4.0\n",
      "b   -141.038097\n",
      "d    -15.653731\n",
      "e   -437.637601\n",
      "dtype: float64\n"
     ]
    }
   ],
   "source": [
    "print df2[['b','d','e']]\n",
    "print df2[['b','d','e']].expanding().count()#.sum(), max(), mean() all the functions can be applied\n",
    "print df2[['b','d','e']].agg(sum)"
   ]
  },
  {
   "cell_type": "code",
   "execution_count": 13,
   "metadata": {},
   "outputs": [
    {
     "name": "stdout",
     "output_type": "stream",
     "text": [
      "                 b           d           e\n",
      "Utah   -169.223126   17.669819  136.937262\n",
      "Ohio    -80.035736   93.079450 -157.892276\n",
      "Texas    -2.985120   16.952786 -167.780630\n",
      "Oregon  111.205885 -143.355786 -248.901957\n",
      "                 b           d           e\n",
      "Utah           NaN         NaN         NaN\n",
      "Ohio           NaN         NaN         NaN\n",
      "Texas  -252.243982  127.702055 -188.735644\n",
      "Oregon   28.185028  -33.323550 -574.574863\n"
     ]
    }
   ],
   "source": [
    "print df2[['b','d','e']]\n",
    "print df2[['b','d','e']].rolling(3).sum()"
   ]
  },
  {
   "cell_type": "code",
   "execution_count": 14,
   "metadata": {},
   "outputs": [
    {
     "name": "stdout",
     "output_type": "stream",
     "text": [
      "             a         b         c\n",
      "Utah  2.254300 -1.003817  1.308024\n",
      "TX   -0.742176  0.976068  0.064217\n",
      "NY    1.175267  0.651158  0.699853\n",
      "IL    0.135990  1.179680 -0.163206\n",
      "                 b           d           e\n",
      "Utah   -169.223126   17.669819  136.937262\n",
      "Ohio    -80.035736   93.079450 -157.892276\n",
      "Texas    -2.985120   16.952786 -167.780630\n",
      "Oregon  111.205885 -143.355786 -248.901957\n"
     ]
    }
   ],
   "source": [
    "df3 = df2[['b','d','e']]\n",
    "\n",
    "df4 =pd.DataFrame(np.random.randn(4, 3), columns = list('abc'), index = ['Utah', 'TX', 'NY', 'IL' ])\n",
    "print df4\n",
    "print df3"
   ]
  },
  {
   "cell_type": "code",
   "execution_count": 15,
   "metadata": {},
   "outputs": [
    {
     "data": {
      "text/html": [
       "<div>\n",
       "<style scoped>\n",
       "    .dataframe tbody tr th:only-of-type {\n",
       "        vertical-align: middle;\n",
       "    }\n",
       "\n",
       "    .dataframe tbody tr th {\n",
       "        vertical-align: top;\n",
       "    }\n",
       "\n",
       "    .dataframe thead th {\n",
       "        text-align: right;\n",
       "    }\n",
       "</style>\n",
       "<table border=\"1\" class=\"dataframe\">\n",
       "  <thead>\n",
       "    <tr style=\"text-align: right;\">\n",
       "      <th></th>\n",
       "      <th>index</th>\n",
       "      <th>b</th>\n",
       "      <th>d</th>\n",
       "      <th>e</th>\n",
       "    </tr>\n",
       "  </thead>\n",
       "  <tbody>\n",
       "    <tr>\n",
       "      <th>0</th>\n",
       "      <td>Utah</td>\n",
       "      <td>-169.223126</td>\n",
       "      <td>17.669819</td>\n",
       "      <td>136.937262</td>\n",
       "    </tr>\n",
       "    <tr>\n",
       "      <th>1</th>\n",
       "      <td>Ohio</td>\n",
       "      <td>-80.035736</td>\n",
       "      <td>93.079450</td>\n",
       "      <td>-157.892276</td>\n",
       "    </tr>\n",
       "    <tr>\n",
       "      <th>2</th>\n",
       "      <td>Texas</td>\n",
       "      <td>-2.985120</td>\n",
       "      <td>16.952786</td>\n",
       "      <td>-167.780630</td>\n",
       "    </tr>\n",
       "    <tr>\n",
       "      <th>3</th>\n",
       "      <td>Oregon</td>\n",
       "      <td>111.205885</td>\n",
       "      <td>-143.355786</td>\n",
       "      <td>-248.901957</td>\n",
       "    </tr>\n",
       "  </tbody>\n",
       "</table>\n",
       "</div>"
      ],
      "text/plain": [
       "    index           b           d           e\n",
       "0    Utah -169.223126   17.669819  136.937262\n",
       "1    Ohio  -80.035736   93.079450 -157.892276\n",
       "2   Texas   -2.985120   16.952786 -167.780630\n",
       "3  Oregon  111.205885 -143.355786 -248.901957"
      ]
     },
     "execution_count": 15,
     "metadata": {},
     "output_type": "execute_result"
    }
   ],
   "source": [
    "df4.reset_index(inplace=True)\n",
    "df3.reset_index(inplace=True)\n"
   ]
  },
  {
   "cell_type": "code",
   "execution_count": 27,
   "metadata": {},
   "outputs": [
    {
     "data": {
      "text/html": [
       "<div>\n",
       "<style scoped>\n",
       "    .dataframe tbody tr th:only-of-type {\n",
       "        vertical-align: middle;\n",
       "    }\n",
       "\n",
       "    .dataframe tbody tr th {\n",
       "        vertical-align: top;\n",
       "    }\n",
       "\n",
       "    .dataframe thead th {\n",
       "        text-align: right;\n",
       "    }\n",
       "</style>\n",
       "<table border=\"1\" class=\"dataframe\">\n",
       "  <thead>\n",
       "    <tr style=\"text-align: right;\">\n",
       "      <th></th>\n",
       "      <th>index</th>\n",
       "      <th>a</th>\n",
       "      <th>b_x</th>\n",
       "      <th>c</th>\n",
       "      <th>b_y</th>\n",
       "      <th>d</th>\n",
       "      <th>e</th>\n",
       "    </tr>\n",
       "  </thead>\n",
       "  <tbody>\n",
       "    <tr>\n",
       "      <th>1</th>\n",
       "      <td>TX</td>\n",
       "      <td>-0.742176</td>\n",
       "      <td>0.976068</td>\n",
       "      <td>0.064217</td>\n",
       "      <td>NaN</td>\n",
       "      <td>NaN</td>\n",
       "      <td>NaN</td>\n",
       "    </tr>\n",
       "    <tr>\n",
       "      <th>2</th>\n",
       "      <td>NY</td>\n",
       "      <td>1.175267</td>\n",
       "      <td>0.651158</td>\n",
       "      <td>0.699853</td>\n",
       "      <td>NaN</td>\n",
       "      <td>NaN</td>\n",
       "      <td>NaN</td>\n",
       "    </tr>\n",
       "    <tr>\n",
       "      <th>3</th>\n",
       "      <td>IL</td>\n",
       "      <td>0.135990</td>\n",
       "      <td>1.179680</td>\n",
       "      <td>-0.163206</td>\n",
       "      <td>NaN</td>\n",
       "      <td>NaN</td>\n",
       "      <td>NaN</td>\n",
       "    </tr>\n",
       "  </tbody>\n",
       "</table>\n",
       "</div>"
      ],
      "text/plain": [
       "  index         a       b_x         c  b_y   d   e\n",
       "1    TX -0.742176  0.976068  0.064217  NaN NaN NaN\n",
       "2    NY  1.175267  0.651158  0.699853  NaN NaN NaN\n",
       "3    IL  0.135990  1.179680 -0.163206  NaN NaN NaN"
      ]
     },
     "execution_count": 27,
     "metadata": {},
     "output_type": "execute_result"
    }
   ],
   "source": [
    "# set like operation: \n",
    "pd.merge(df4, df3, how='left', on = 'index', indicator=True).query('_merge == \"left_only\"').drop(columns=['_merge'])#right, outer, inner"
   ]
  },
  {
   "cell_type": "code",
   "execution_count": null,
   "metadata": {},
   "outputs": [],
   "source": []
  }
 ],
 "metadata": {
  "kernelspec": {
   "display_name": "Python 2",
   "language": "python",
   "name": "python2"
  },
  "language_info": {
   "codemirror_mode": {
    "name": "ipython",
    "version": 2
   },
   "file_extension": ".py",
   "mimetype": "text/x-python",
   "name": "python",
   "nbconvert_exporter": "python",
   "pygments_lexer": "ipython2",
   "version": "2.7.15"
  }
 },
 "nbformat": 4,
 "nbformat_minor": 2
}
