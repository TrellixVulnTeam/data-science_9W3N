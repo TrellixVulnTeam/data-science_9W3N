{
 "cells": [
  {
   "cell_type": "code",
   "execution_count": 6,
   "metadata": {},
   "outputs": [
    {
     "name": "stdout",
     "output_type": "stream",
     "text": [
      "[96. 74. 75. 69. 89. 57. 97. 72. 83. 78.]\n",
      "[70. 90. 80. 82. 62. 77. 84. 64. 72. 75.]\n",
      "[53. 60. 52. 67. 47. 44. 45. 50. 48. 67.]\n"
     ]
    }
   ],
   "source": [
    "# Anova tests\n",
    "# Example: average grade from 3 different schools are examined to see \n",
    "# if at least one school scored differently from others. Each school is assumed to have 100 students.\n",
    "import numpy as np\n",
    "from st\n",
    "\n",
    "np.random.seed(1)\n",
    "\n",
    "#print np.random.randn(10)\n",
    "grade1 = np.random.normal(80, 10, 100).round()\n",
    "grade2 = np.random.normal(75, 12, 100).round()\n",
    "grade3 = np.random.normal(55, 6, 100).round()\n",
    "print grade1[:10]\n",
    "print grade2[:10]\n",
    "print grade3[:10]"
   ]
  }
 ],
 "metadata": {
  "kernelspec": {
   "display_name": "Python 2",
   "language": "python",
   "name": "python2"
  },
  "language_info": {
   "codemirror_mode": {
    "name": "ipython",
    "version": 2
   },
   "file_extension": ".py",
   "mimetype": "text/x-python",
   "name": "python",
   "nbconvert_exporter": "python",
   "pygments_lexer": "ipython2",
   "version": "2.7.15"
  }
 },
 "nbformat": 4,
 "nbformat_minor": 2
}
