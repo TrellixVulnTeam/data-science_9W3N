{
 "cells": [
  {
   "cell_type": "code",
   "execution_count": 11,
   "metadata": {},
   "outputs": [
    {
     "name": "stdout",
     "output_type": "stream",
     "text": [
      "0.048\n",
      "-1.9768661922233874 0.0480567571871982\n"
     ]
    }
   ],
   "source": [
    "# The first example involves a hypothesis test for the proportion in which the alternative hypothesis is a \n",
    "# \"greater than hypothesis,\" that is, the alternative hypothesis is of the form HA: p > p0. And, the\n",
    "# second example involves a hypothesis test for the proportion in which the alternative hypothesis is a \n",
    "# \"less than hypothesis,\" that is, the alternative hypothesis is of the form HA: p < p0. \n",
    "\n",
    "\n",
    "import numpy as np\n",
    "from statsmodels.stats.proportion import proportions_ztest\n",
    "# Example 1\n",
    "\n",
    "# A Gallup poll released on October 13, 2000 found that 47% of the 1052 U.S. adults surveyed classified \n",
    "# themselves as \"very happy\" when given the choices of: \"very happy\", \"fairly happy\", \"not too happy\"\n",
    "\n",
    "#Suppose that a journalist who is a pessimist took advantage of this poll to write a headline titled \"Poll \n",
    "#finds that U.S. adults who are very happy are in the minority.\" Is the pessimistic journalist's headline warranted?\n",
    "\n",
    "# Because we're interested in the majority/minority boundary line, the null hypothesis is:\n",
    "# H0: p = 0.50\n",
    "\n",
    "# Because the journalist claims that the proportion of very happy U.S. adults is a minority, that is, \n",
    "# less than 0.50, the alternative hypothesis is:\n",
    "# HA: p < 0.50\n",
    "\n",
    "count = 494\n",
    "nobs = 1052\n",
    "value = .5\n",
    "z, pval = proportions_ztest(count, nobs, value)\n",
    "print('{0:0.3f}'.format(pval))\n",
    "print z\n",
    "\n",
    "# That is, we reject the null hypothesis if the test statistic Z < −1.645. Because the test statistic falls in the critical region, that is, because Z = −1.946 <  −1.645, we can reject the null hypothesis in favor \n",
    "# of the alternative hypothesis. There is sufficient evidence at the α = 0.05 level to conclude that prop < 0.50, that is, \n",
    "# that U.S. adults who are very happy are in the minority. The journalist's pessimism appears to be indeed warranted.\n",
    "# "
   ]
  },
  {
   "cell_type": "code",
   "execution_count": null,
   "metadata": {},
   "outputs": [],
   "source": [
    "# Example 2\n",
    "# Let p equal the proportion of drivers who use a seat belt in a state that does not have a mandatory seat belt law. \n",
    "# It was claimed that p = 0.14. An advertising campaign was conducted to increase this proportion.\n",
    "# Two months after the campaign, y = 104 out of a random sample of n = 590 drivers were wearing seat belts. \n",
    "# Was the campaign successful?"
   ]
  },
  {
   "cell_type": "code",
   "execution_count": 12,
   "metadata": {},
   "outputs": [
    {
     "name": "stdout",
     "output_type": "stream",
     "text": [
      "0.021\n",
      "2.3120912752766714\n"
     ]
    }
   ],
   "source": [
    "# H0: p = 0.14\n",
    "\n",
    "\n",
    "# HA: p > 0.14\n",
    "\n",
    "count = 104\n",
    "nobs = 590\n",
    "value = .14\n",
    "z, pval = proportions_ztest(count, nobs, value)\n",
    "print('{0:0.3f}'.format(pval))\n",
    "print z\n",
    "\n",
    "# That is, we reject the null hypothesis if the test statistic Z > 2.326. \n",
    "# Because the test statistic falls in the critical region, that is, because Z = 2.31 > 1.645, \n",
    "# we can reject the null hypothesis in favor of the alternative hypothesis. There is sufficient evidence \n",
    "# at the α = 0.05 level to conclude the campaign was successful (p > 0.14). "
   ]
  }
 ],
 "metadata": {
  "kernelspec": {
   "display_name": "Python 2",
   "language": "python",
   "name": "python2"
  },
  "language_info": {
   "codemirror_mode": {
    "name": "ipython",
    "version": 2
   },
   "file_extension": ".py",
   "mimetype": "text/x-python",
   "name": "python",
   "nbconvert_exporter": "python",
   "pygments_lexer": "ipython2",
   "version": "2.7.15"
  }
 },
 "nbformat": 4,
 "nbformat_minor": 2
}
