{
 "cells": [
  {
   "cell_type": "code",
   "execution_count": 2,
   "metadata": {},
   "outputs": [
    {
     "data": {
      "text/plain": [
       "Power_divergenceResult(statistic=2.041666666666667, pvalue=0.15304188415881606)"
      ]
     },
     "execution_count": 2,
     "metadata": {},
     "output_type": "execute_result"
    }
   ],
   "source": [
    "# Chi square goodness of fit\n",
    "\n",
    "# Example 1\n",
    "# Suppose college student population is 60% female and 40% male.\n",
    "# Then, if a sample of 100 students yields 53 females and 47 males, \n",
    "# can we conclude that the sample is (random and) representative of the population? Use the chi-square \n",
    "# goodness-of-fit statistic to test the hypotheses:\n",
    "\n",
    "# H0:pF=0.60\n",
    "# HA:pF≠0.60\n",
    "\n",
    "# using a significance level of α = 0.05.\n",
    "\n",
    "from scipy.stats import chisquare\n",
    "import numpy as np\n",
    "#chisquare([16, 18, 16, 14, 12, 12], f_exp=[16, 16, 16, 16, 16, 8])\n",
    "chisquare([47, 53], f_exp=[40, 60])"
   ]
  },
  {
   "cell_type": "code",
   "execution_count": 3,
   "metadata": {},
   "outputs": [
    {
     "data": {
      "text/plain": [
       "Power_divergenceResult(statistic=3.333333333333333, pvalue=0.6487423586675934)"
      ]
     },
     "execution_count": 3,
     "metadata": {},
     "output_type": "execute_result"
    }
   ],
   "source": [
    "# Example 2\n",
    "# The dice is rolled 36 times and the expected frequency for the each face to turn upward is 1/6\n",
    "expected = np.array([6, 6, 6, 6, 6, 6])\n",
    "# but the observed frequency as following: \n",
    "observed = np.array([7, 6, 5, 9, 3, 6])\n",
    "# is the observed data differs significantly from the expected data?\n",
    "# H0:prob(expected)=prob(observed)\n",
    "\n",
    "chisquare(observed, f_exp=expected)"
   ]
  },
  {
   "cell_type": "code",
   "execution_count": null,
   "metadata": {},
   "outputs": [],
   "source": [
    "# with P value this large, we fail to reject the null hypothesis and conclude that the\n",
    "# expected value is similar to ov=bserved value"
   ]
  },
  {
   "cell_type": "code",
   "execution_count": 8,
   "metadata": {},
   "outputs": [
    {
     "name": "stdout",
     "output_type": "stream",
     "text": [
      "(25.941752933057288, 2.327126143376618e-06)\n"
     ]
    }
   ],
   "source": [
    "# Chi square test of independence (for categorical data)\n",
    "# Example\n",
    "# Men and women were surveyed about their favorite sports. Options are 1.soccer, 2.football, 3.hockey\n",
    "# The number of man who chose the sports in the respective order is: 100, 210, 150; while for women: 110, 90, 100\n",
    "# let' see if the two data is independent of each other. \n",
    "men = [100, 210, 150]\n",
    "women = [110, 90, 100]\n",
    "all_data = np.array([men, women])\n",
    "\n",
    "from scipy.stats import chi2_contingency\n",
    "from scipy.stats import chisquare\n",
    "\n",
    "chi, p, df, array = chi2_contingency(all_data)\n",
    "print (chi, p)\n",
    "\n",
    "print ('with such a small p value, we can conclude that the two data are associated with each other.')"
   ]
  }
 ],
 "metadata": {
  "kernelspec": {
   "display_name": "Python 2",
   "language": "python",
   "name": "python2"
  },
  "language_info": {
   "codemirror_mode": {
    "name": "ipython",
    "version": 2
   },
   "file_extension": ".py",
   "mimetype": "text/x-python",
   "name": "python",
   "nbconvert_exporter": "python",
   "pygments_lexer": "ipython2",
   "version": "2.7.15"
  }
 },
 "nbformat": 4,
 "nbformat_minor": 2
}
