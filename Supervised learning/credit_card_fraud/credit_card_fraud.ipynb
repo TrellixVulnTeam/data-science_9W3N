{
 "cells": [
  {
   "cell_type": "markdown",
   "metadata": {},
   "source": [
    "## Content\n",
    "<font color='blue'><a href='#1'>1. Introduction</a></font> \n",
    "\n",
    "<font color='blue'><a href='#2'>2. Data Overview</a></font> \n",
    " \n",
    "<font color='blue'><a href='#3'>3. Logistic Regression</a></font> \n",
    "\n",
    "<font color='blue'><a href='#4'>4. KNN similarity model</a></font>\n",
    " \n",
    "<font color='blue'><a href='#5'>5. Random Forest</a></font>\n",
    " \n",
    "<font color='blue'><a href='#6'>6. SVM</a></font> \n",
    "\n",
    "<font color='blue'><a href='#7'>7. Gradient Boosting</a></font> \n",
    "\n",
    "<font color='blue'><a href='#8'>8. Ridge Classifier</a></font> \n",
    "\n",
    "<font color='blue'><a href='#9'>9. Bernoulli/Naive Bayesian classifier</a></font> \n",
    "\n",
    "<font color='blue'><a href='#10'>10. Neural Network: Tensorflow</a></font> \n",
    "\n",
    "<font color='blue'><a href='#11'>11. Anomaly Detection</a></font> \n",
    "\n",
    "    \n"
   ]
  },
  {
   "cell_type": "markdown",
   "metadata": {},
   "source": [
    "\n",
    "<font size=\"6\"><a id='1'>1. Introduction</a></font> \n",
    "\n",
    "I will be investigating the dataset \"Credit Card Fraud\". The datasets contains transactions made by credit cards in September 2013 by european cardholders. This dataset presents transactions that occurred in two days, where we have 492 frauds out of 284,807 transactions. The dataset is highly unbalanced, the positive class (frauds) account for 0.172% of all transactions.\n",
    "\n",
    "It contains only numerical input variables which are the result of a PCA transformation( due to confidentiality issues, they cannot provide the original features). Features V1, V2, ... V28 are the principal components obtained with PCA, the only features which have not been transformed with PCA are 'Time' and 'Amount'. Feature 'Time' contains the seconds elapsed between each transaction and the first transaction in the dataset. The feature 'Amount' is the transaction Amount, this feature can be used for example-dependant cost-senstive learning. Feature 'Class' is the response variable and it takes value 1 in case of fraud and 0 otherwise. \n"
   ]
  },
  {
   "cell_type": "code",
   "execution_count": 4,
   "metadata": {},
   "outputs": [],
   "source": [
    "import pandas as pd\n",
    "import numpy as np\n",
    "from datetime import datetime\n",
    "import matplotlib.pyplot as plt\n",
    "import matplotlib.pyplot as plt\n",
    "import seaborn as sns\n",
    "import scipy.stats as stats\n",
    "import statsmodels.api as sm\n",
    "from sklearn.linear_model import LogisticRegression\n",
    "from sklearn.neighbors import KNeighborsClassifier\n",
    "\n",
    "from sklearn.metrics import classification_report\n",
    "\n",
    "\n",
    "import warnings\n",
    "warnings.filterwarnings('ignore')\n",
    "\n"
   ]
  },
  {
   "cell_type": "markdown",
   "metadata": {},
   "source": [
    "<font size=\"6\"><a id='2'>2. Data Overview</a></font> \n"
   ]
  },
  {
   "cell_type": "code",
   "execution_count": 3,
   "metadata": {},
   "outputs": [
    {
     "name": "stdout",
     "output_type": "stream",
     "text": [
      "   Time        V1        V2        V3        V4        V5        V6        V7  \\\n",
      "0   0.0 -1.359807 -0.072781  2.536347  1.378155 -0.338321  0.462388  0.239599   \n",
      "1   0.0  1.191857  0.266151  0.166480  0.448154  0.060018 -0.082361 -0.078803   \n",
      "2   1.0 -1.358354 -1.340163  1.773209  0.379780 -0.503198  1.800499  0.791461   \n",
      "3   1.0 -0.966272 -0.185226  1.792993 -0.863291 -0.010309  1.247203  0.237609   \n",
      "4   2.0 -1.158233  0.877737  1.548718  0.403034 -0.407193  0.095921  0.592941   \n",
      "\n",
      "         V8        V9  ...         V21       V22       V23       V24  \\\n",
      "0  0.098698  0.363787  ...   -0.018307  0.277838 -0.110474  0.066928   \n",
      "1  0.085102 -0.255425  ...   -0.225775 -0.638672  0.101288 -0.339846   \n",
      "2  0.247676 -1.514654  ...    0.247998  0.771679  0.909412 -0.689281   \n",
      "3  0.377436 -1.387024  ...   -0.108300  0.005274 -0.190321 -1.175575   \n",
      "4 -0.270533  0.817739  ...   -0.009431  0.798278 -0.137458  0.141267   \n",
      "\n",
      "        V25       V26       V27       V28  Amount  Class  \n",
      "0  0.128539 -0.189115  0.133558 -0.021053  149.62      0  \n",
      "1  0.167170  0.125895 -0.008983  0.014724    2.69      0  \n",
      "2 -0.327642 -0.139097 -0.055353 -0.059752  378.66      0  \n",
      "3  0.647376 -0.221929  0.062723  0.061458  123.50      0  \n",
      "4 -0.206010  0.502292  0.219422  0.215153   69.99      0  \n",
      "\n",
      "[5 rows x 31 columns]\n",
      "<class 'pandas.core.frame.DataFrame'>\n",
      "RangeIndex: 284807 entries, 0 to 284806\n",
      "Data columns (total 31 columns):\n",
      "Time      284807 non-null float64\n",
      "V1        284807 non-null float64\n",
      "V2        284807 non-null float64\n",
      "V3        284807 non-null float64\n",
      "V4        284807 non-null float64\n",
      "V5        284807 non-null float64\n",
      "V6        284807 non-null float64\n",
      "V7        284807 non-null float64\n",
      "V8        284807 non-null float64\n",
      "V9        284807 non-null float64\n",
      "V10       284807 non-null float64\n",
      "V11       284807 non-null float64\n",
      "V12       284807 non-null float64\n",
      "V13       284807 non-null float64\n",
      "V14       284807 non-null float64\n",
      "V15       284807 non-null float64\n",
      "V16       284807 non-null float64\n",
      "V17       284807 non-null float64\n",
      "V18       284807 non-null float64\n",
      "V19       284807 non-null float64\n",
      "V20       284807 non-null float64\n",
      "V21       284807 non-null float64\n",
      "V22       284807 non-null float64\n",
      "V23       284807 non-null float64\n",
      "V24       284807 non-null float64\n",
      "V25       284807 non-null float64\n",
      "V26       284807 non-null float64\n",
      "V27       284807 non-null float64\n",
      "V28       284807 non-null float64\n",
      "Amount    284807 non-null float64\n",
      "Class     284807 non-null int64\n",
      "dtypes: float64(30), int64(1)\n",
      "memory usage: 67.4 MB\n",
      "None\n",
      "Time      0\n",
      "V1        0\n",
      "V2        0\n",
      "V3        0\n",
      "V4        0\n",
      "V5        0\n",
      "V6        0\n",
      "V7        0\n",
      "V8        0\n",
      "V9        0\n",
      "V10       0\n",
      "V11       0\n",
      "V12       0\n",
      "V13       0\n",
      "V14       0\n",
      "V15       0\n",
      "V16       0\n",
      "V17       0\n",
      "V18       0\n",
      "V19       0\n",
      "V20       0\n",
      "V21       0\n",
      "V22       0\n",
      "V23       0\n",
      "V24       0\n",
      "V25       0\n",
      "V26       0\n",
      "V27       0\n",
      "V28       0\n",
      "Amount    0\n",
      "Class     0\n",
      "dtype: int64\n"
     ]
    }
   ],
   "source": [
    "df = pd.read_csv(filepath_or_buffer = \"/home/micah/Desktop/data/creditcard.csv\")\n",
    "\n",
    "print df.head()\n",
    "print df.info()\n",
    "print df.isna().sum()"
   ]
  },
  {
   "cell_type": "markdown",
   "metadata": {},
   "source": [
    "Looks like there's no missing value in the dataset"
   ]
  },
  {
   "cell_type": "code",
   "execution_count": 3,
   "metadata": {},
   "outputs": [
    {
     "data": {
      "image/png": "[encoded data removed]",
      "text/plain": [
       "<Figure size 864x648 with 2 Axes>"
      ]
     },
     "metadata": {
      "needs_background": "light"
     },
     "output_type": "display_data"
    }
   ],
   "source": [
    "# Make the correlation matrix.\n",
    "cor = df.corr()\n",
    "\n",
    "# Set up the matplotlib figure.\n",
    "f, ax = plt.subplots(figsize=(12, 9))\n",
    "\n",
    "# Draw the heatmap using seaborn.\n",
    "sns.heatmap(cor, vmax=.8, square=True)\n",
    "plt.show()\n",
    "# Heatmaps ar"
   ]
  },
  {
   "cell_type": "markdown",
   "metadata": {},
   "source": [
    "Looks like the correlation between the independent variables or the features are low and that is a good sign!"
   ]
  },
  {
   "cell_type": "markdown",
   "metadata": {},
   "source": [
    "<font size=\"6\"><a id='3'>3. Logistic regression</a></font> \n"
   ]
  },
  {
   "cell_type": "code",
   "execution_count": 4,
   "metadata": {},
   "outputs": [
    {
     "name": "stdout",
     "output_type": "stream",
     "text": [
      "Optimization terminated successfully.\n",
      "         Current function value: 0.003914\n",
      "         Iterations 13\n",
      "                           Logit Regression Results                           \n",
      "==============================================================================\n",
      "Dep. Variable:                  Class   No. Observations:               284807\n",
      "Model:                          Logit   Df Residuals:                   284776\n",
      "Method:                           MLE   Df Model:                           30\n",
      "Date:                Sun, 16 Jun 2019   Pseudo R-squ.:                  0.6922\n",
      "Time:                        15:25:19   Log-Likelihood:                -1114.8\n",
      "converged:                       True   LL-Null:                       -3621.2\n",
      "                                        LLR p-value:                     0.000\n",
      "==============================================================================\n",
      "                 coef    std err          z      P>|z|      [0.025      0.975]\n",
      "------------------------------------------------------------------------------\n",
      "Time       -3.742e-06   2.26e-06     -1.659      0.097   -8.16e-06    6.79e-07\n",
      "V1             0.0960      0.042      2.264      0.024       0.013       0.179\n",
      "V2             0.0094      0.058      0.161      0.872      -0.104       0.123\n",
      "V3            -0.0079      0.053     -0.149      0.881      -0.112       0.096\n",
      "V4             0.6986      0.074      9.454      0.000       0.554       0.843\n",
      "V5             0.1295      0.067      1.944      0.052      -0.001       0.260\n",
      "V6            -0.1198      0.074     -1.626      0.104      -0.264       0.025\n",
      "V7            -0.0969      0.067     -1.453      0.146      -0.228       0.034\n",
      "V8            -0.1739      0.030     -5.711      0.000      -0.234      -0.114\n",
      "V9            -0.2843      0.111     -2.561      0.010      -0.502      -0.067\n",
      "V10           -0.8176      0.097     -8.432      0.000      -1.008      -0.628\n",
      "V11           -0.0621      0.081     -0.762      0.446      -0.222       0.098\n",
      "V12            0.0909      0.087      1.045      0.296      -0.080       0.261\n",
      "V13           -0.3312      0.082     -4.058      0.000      -0.491      -0.171\n",
      "V14           -0.5571      0.062     -8.949      0.000      -0.679      -0.435\n",
      "V15           -0.1141      0.086     -1.330      0.183      -0.282       0.054\n",
      "V16           -0.1908      0.125     -1.526      0.127      -0.436       0.054\n",
      "V17           -0.0216      0.070     -0.309      0.757      -0.159       0.116\n",
      "V18           -0.0131      0.129     -0.102      0.919      -0.266       0.240\n",
      "V19            0.0963      0.097      0.993      0.321      -0.094       0.286\n",
      "V20           -0.4582      0.082     -5.607      0.000      -0.618      -0.298\n",
      "V21            0.3898      0.060      6.494      0.000       0.272       0.507\n",
      "V22            0.6297      0.134      4.707      0.000       0.367       0.892\n",
      "V23           -0.0951      0.058     -1.629      0.103      -0.209       0.019\n",
      "V24            0.1289      0.147      0.874      0.382      -0.160       0.418\n",
      "V25           -0.0761      0.131     -0.582      0.560      -0.332       0.180\n",
      "V26            0.0195      0.190      0.103      0.918      -0.352       0.392\n",
      "V27           -0.8188      0.122     -6.686      0.000      -1.059      -0.579\n",
      "V28           -0.2937      0.088     -3.332      0.001      -0.467      -0.121\n",
      "Amount         0.0009      0.000      2.449      0.014       0.000       0.002\n",
      "intercept     -8.3917      0.249    -33.652      0.000      -8.880      -7.903\n",
      "==============================================================================\n",
      "\n",
      "Possibly complete quasi-separation: A fraction 0.31 of observations can be\n",
      "perfectly predicted. This might indicate that there is complete\n",
      "quasi-separation. In this case some parameters will not be identified.\n"
     ]
    }
   ],
   "source": [
    "# Statsmodel logistic regression\n",
    "\n",
    "# Declare predictors.\n",
    "y_statsmod = df['Class']\n",
    "x_statsmod = df.iloc[:,:-1]\n",
    "\n",
    "# The Statsmodels formulation requires a column with constant value 1 that\n",
    "# will act as the intercept.\n",
    "x_statsmod['intercept'] = 1 \n",
    "\n",
    "# Declare and fit the model.\n",
    "logit = sm.Logit(y_statsmod, x_statsmod)\n",
    "result = logit.fit()\n",
    "\n",
    "# Lots of information about the model and its coefficients, but the\n",
    "# accuracy rate for predictions is missing.\n",
    "print(result.summary())"
   ]
  },
  {
   "cell_type": "code",
   "execution_count": 5,
   "metadata": {},
   "outputs": [
    {
     "name": "stdout",
     "output_type": "stream",
     "text": [
      "0         6.299447e-04\n",
      "1         2.003029e-04\n",
      "2         3.495181e-04\n",
      "3         1.472313e-04\n",
      "4         1.971930e-04\n",
      "5         1.449841e-04\n",
      "6         5.519510e-04\n",
      "7         4.667054e-04\n",
      "8         2.374541e-04\n",
      "9         1.146105e-04\n",
      "10        5.964671e-05\n",
      "11        1.901861e-04\n",
      "12        3.955599e-05\n",
      "13        1.513142e-03\n",
      "14        1.687237e-03\n",
      "15        1.043697e-04\n",
      "16        6.497464e-04\n",
      "17        1.429813e-04\n",
      "18        1.279607e-03\n",
      "19        4.343146e-05\n",
      "20        2.532104e-04\n",
      "21        5.933660e-04\n",
      "22        6.902076e-04\n",
      "23        9.459918e-04\n",
      "24        1.238256e-05\n",
      "25        2.246580e-04\n",
      "26        4.770405e-04\n",
      "27        2.099362e-04\n",
      "28        1.391865e-03\n",
      "29        5.939646e-04\n",
      "              ...     \n",
      "284777    3.198327e-04\n",
      "284778    4.871661e-04\n",
      "284779    2.272604e-04\n",
      "284780    2.089247e-04\n",
      "284781    6.702510e-05\n",
      "284782    3.937880e-03\n",
      "284783    1.345799e-05\n",
      "284784    2.303508e-04\n",
      "284785    2.022098e-05\n",
      "284786    9.456946e-06\n",
      "284787    2.331267e-04\n",
      "284788    1.017093e-04\n",
      "284789    5.359694e-04\n",
      "284790    1.311487e-04\n",
      "284791    1.835383e-04\n",
      "284792    2.130599e-04\n",
      "284793    9.550190e-05\n",
      "284794    1.350181e-04\n",
      "284795    9.886743e-13\n",
      "284796    6.964171e-04\n",
      "284797    9.703805e-05\n",
      "284798    4.004162e-04\n",
      "284799    1.893514e-04\n",
      "284800    9.427192e-05\n",
      "284801    1.119752e-04\n",
      "284802    9.632559e-10\n",
      "284803    1.815906e-04\n",
      "284804    2.247533e-04\n",
      "284805    4.330019e-04\n",
      "284806    2.974124e-04\n",
      "Length: 284807, dtype: float64\n",
      "\n",
      " Accuracy by admission status\n",
      "col_0       0    1\n",
      "Class             \n",
      "0      284273   42\n",
      "1         184  308\n",
      "\n",
      " Percentage accuracy\n",
      "284807\n",
      "0.9992064801778047\n"
     ]
    }
   ],
   "source": [
    "# Calculate accuracy. First, get probability that each row will be a fraud.\n",
    "pred_statsmod = result.predict(x_statsmod)\n",
    "print pred_statsmod\n",
    "\n",
    "# fraud 1 if probability is greater than .5.\n",
    "pred_statsmod = np.where(pred_statsmod < .5, 0, 1)\n",
    "\n",
    "# Accuracy table.\n",
    "table = pd.crosstab(y_statsmod, pred_statsmod)\n",
    "\n",
    "print('\\n Accuracy by admission status')\n",
    "print(table)\n",
    "print('\\n Percentage accuracy')\n",
    "print table.sum().sum()#.iloc[0]\n",
    "print((table.iloc[0,0] + table.iloc[1,1]) / float(table.sum().sum()))"
   ]
  },
  {
   "cell_type": "code",
   "execution_count": 6,
   "metadata": {},
   "outputs": [
    {
     "name": "stdout",
     "output_type": "stream",
     "text": [
      "Coefficients\n",
      "[[-7.12206575e-05  3.18682793e-01 -4.83850387e-01 -7.93127563e-01\n",
      "   1.20289540e-01  5.75021683e-02 -5.40495940e-02  3.35171136e-01\n",
      "  -3.74165961e-01 -3.88332949e-01 -2.06986480e-01 -2.86517603e-01\n",
      "   1.85123052e-02 -3.06438278e-01 -6.94224243e-01 -4.27600151e-01\n",
      "  -2.94579466e-01 -4.39702486e-01  3.10746972e-02  2.64950391e-02\n",
      "   9.19504147e-02  2.48760049e-01  3.50865605e-01  6.76883576e-02\n",
      "  -2.44272764e-02 -3.56044928e-01  6.07018132e-02 -8.87962032e-02\n",
      "   2.77870551e-02 -5.58303923e-03]]\n",
      "Intercept\n",
      "[-1.62808759]\n",
      "\n",
      " Accuracy by admission status\n",
      "\n",
      "Class       0    1\n",
      "row_0             \n",
      "0      284240  203\n",
      "1          75  289\n",
      "\n",
      " Percentage accuracy\n",
      "\n",
      "0.9990239003957065\n",
      "              precision    recall  f1-score   support\n",
      "\n",
      "           0       1.00      1.00      1.00    284443\n",
      "           1       0.59      0.79      0.68       364\n",
      "\n",
      "   micro avg       1.00      1.00      1.00    284807\n",
      "   macro avg       0.79      0.90      0.84    284807\n",
      "weighted avg       1.00      1.00      1.00    284807\n",
      "\n"
     ]
    }
   ],
   "source": [
    "#SKlearn logistic regression functionality includes a parameter regularization element that penalizes extremely\n",
    "# large parameters in the name of increasing predictive accuracy.\n",
    "lr = LogisticRegression()\n",
    "\n",
    "y = df['Class']\n",
    "X = df.iloc[:,:-1]\n",
    "\n",
    "fit = lr.fit(X, y)\n",
    "\n",
    "print('Coefficients')\n",
    "print(fit.coef_)\n",
    "print('Intercept')\n",
    "print(fit.intercept_)\n",
    "pred_y = lr.predict(X)\n",
    "\n",
    "print('\\n Accuracy by admission status\\n')\n",
    "print(pd.crosstab(pred_y, y))\n",
    "\n",
    "print('\\n Percentage accuracy\\n')\n",
    "print(lr.score(X, y))\n",
    "\n",
    "print(classification_report(pred_y, y))"
   ]
  },
  {
   "cell_type": "code",
   "execution_count": null,
   "metadata": {},
   "outputs": [],
   "source": []
  },
  {
   "cell_type": "markdown",
   "metadata": {},
   "source": [
    "Frauds account for 0.172% \n",
    "\n",
    "In case if we wanted to use regression to predict a categorical variable with more than two possible outcomes, we use multinomial logistic regression and LogisticRegression from SKlearn can handle multiple classes out-of-the-box.\n",
    "If want ordinal logistic regression like marathon runners places from 1st to 100th, we can use python MORD package. \n"
   ]
  },
  {
   "cell_type": "code",
   "execution_count": 7,
   "metadata": {},
   "outputs": [
    {
     "ename": "SyntaxError",
     "evalue": "invalid syntax (<ipython-input-7-7c4249d5a25f>, line 1)",
     "output_type": "error",
     "traceback": [
      "\u001b[0;36m  File \u001b[0;32m\"<ipython-input-7-7c4249d5a25f>\"\u001b[0;36m, line \u001b[0;32m1\u001b[0m\n\u001b[0;31m    https://towardsdatascience.com/building-a-logistic-regression-in-python-step-by-step-becd4d56c9c8\u001b[0m\n\u001b[0m         ^\u001b[0m\n\u001b[0;31mSyntaxError\u001b[0m\u001b[0;31m:\u001b[0m invalid syntax\n"
     ]
    }
   ],
   "source": [
    "https://towardsdatascience.com/building-a-logistic-regression-in-python-step-by-step-becd4d56c9c8"
   ]
  },
  {
   "cell_type": "markdown",
   "metadata": {},
   "source": [
    "<font size=\"6\"><a id='4'>4. KNN similarity</a></font> \n"
   ]
  },
  {
   "cell_type": "markdown",
   "metadata": {},
   "source": [
    "KNeighborsClassifier can take longer than other models. So with big data, it can become a bit more time consuming. \n",
    "K nearest observations are not all similarly close to the test. In that case it may be useful to weight by distance."
   ]
  },
  {
   "cell_type": "code",
   "execution_count": null,
   "metadata": {},
   "outputs": [],
   "source": [
    "neighbors = KNeighborsClassifier(n_neighbors=1)\n",
    "\n",
    "df1 = df.loc[:float(len(df)/100),:]\n",
    "print 'for simplicity reason, we chose 1% of the original data for k neighbours'\n",
    "\n",
    "y = df1['Class']\n",
    "X = df1.iloc[:,:-1]\n",
    "neighbors.fit(X,y)\n",
    "\n",
    "pred= neighbors.predict(X)\n",
    "\n",
    "# fraud 1 if probability is greater than .5.\n",
    "#pred_statsmod = np.where(pred_statsmod < .5, 0, 1)\n",
    "\n",
    "# Accuracy table.\n",
    "table = pd.crosstab(y, pred)\n",
    "\n",
    "print('\\n Accuracy')\n",
    "print(table)\n",
    "print('\\n Percentage accuracy')\n",
    "print table.sum().sum()\n",
    "print((table.iloc[0,0] + table.iloc[1,1]) / float(table.sum().sum()))\n",
    "\n",
    "\n",
    "from sklearn.model_selection import cross_val_score\n",
    "score = cross_val_score(neighbors, X, y, cv=4)\n",
    "\n",
    "print(\"Unweighted Accuracy: %0.2f (+/- %0.2f)\" % (score.mean(), score.std()))\n"
   ]
  },
  {
   "cell_type": "code",
   "execution_count": null,
   "metadata": {},
   "outputs": [],
   "source": [
    "neighbors2 = KNeighborsClassifier(n_neighbors=5,  weights='distance')\n",
    "\n",
    "neighbors2.fit(X,y)\n",
    "pred2= neighbors2.predict(X)\n",
    "table2 = pd.crosstab(y, pred2)\n",
    "\n",
    "score2 = cross_val_score(neighbors2, X, y, cv=4)\n",
    "print(\"Unweighted Accuracy: %0.2f (+/- %0.2f)\" % (score2.mean(), score2.std()))\n",
    "\n"
   ]
  },
  {
   "cell_type": "markdown",
   "metadata": {},
   "source": [
    "it is a good idea to represent the outcome in the mesh. However, because the fraud rate is so low compared to the non-fraud cases and the fact that it is computationally expensive, it is not a good idea in this specific case. I have tried to do it and I've got a MemoryError"
   ]
  },
  {
   "cell_type": "code",
   "execution_count": null,
   "metadata": {},
   "outputs": [],
   "source": [
    "neighbors = KNeighborsClassifier(n_neighbors=2, weights='distance')\n",
    "df1 = df.loc[:float(len(df)/500),:]\n",
    "#print 'for simplicity reason, we chose 1% of the original data for k neighbours meshing'\n",
    "\n",
    "y = df1['Class']\n",
    "X = df1.iloc[:,:-1]\n",
    "\n",
    "neighbors.fit(X, y)\n",
    "\n",
    "X = np.array(X)\n",
    "Y = np.array(y)\n",
    "\n",
    "# Mesh size.\n",
    "h = .01\n",
    "\n",
    "# Plot the decision boundary. We assign a color to each point in the mesh.\n",
    "x_min = X[:,0].min() - .5\n",
    "x_max = X[:,0].max() + .5\n",
    "y_min = X[:,1].min() - .5\n",
    "y_max = X[:,1].max() + .5\n",
    "xx, yy = np.meshgrid(\n",
    "    np.arange(x_min, x_max, h),\n",
    "    np.arange(y_min, y_max, h)\n",
    ")\n",
    "print len(xx.ravel() )\n",
    "print len(yy.ravel() )\n",
    "Z = neighbors.predict(np.c_[xx.ravel(), yy.ravel()])\n",
    "\n",
    "# Put the result into a color plot\n",
    "Z = Z.reshape(xx.shape)\n",
    "plt.figure(1, figsize=(6, 4))\n",
    "plt.set_cmap(plt.cm.Paired)\n",
    "plt.pcolormesh(xx, yy, Z)\n",
    "\n",
    "# Add the training points to the plot.\n",
    "plt.scatter(X[:, 0], X[:, 1], c=Y)\n",
    "plt.xlabel('')\n",
    "plt.ylabel('')\n",
    "\n",
    "plt.xlim(xx.min(), xx.max())\n",
    "plt.ylim(yy.min(), yy.max())\n",
    "\n",
    "plt.show()\n"
   ]
  },
  {
   "cell_type": "markdown",
   "metadata": {},
   "source": [
    "<font size=\"6\"><a id='5'>5. Random Forest</a></font> \n"
   ]
  },
  {
   "cell_type": "markdown",
   "metadata": {},
   "source": [
    "# Decision Trees\n",
    "With Decision Tree, we ask a series of questions to gain information about the data, narrowing down the possible number of questions each time. To be efficient, we use Entropy(disorder) and here it will mean uncertainty. It can be defined, using Shannon Entropy 𝐻\n",
    "\n",
    "$$ H = -\\sum_{i=1}^n P(x_i)log_2 P(x_i) $$\n",
    "\n",
    "So the idea of which node need to be explored more is based on entropy number. With the entropy score of 1 being the most uncertain, 0 being totally certain, we decide what we explore more to mazximize information gain. \n"
   ]
  },
  {
   "cell_type": "code",
   "execution_count": null,
   "metadata": {},
   "outputs": [],
   "source": [
    "# This is the model we'll be using.\n",
    "from sklearn import tree\n",
    "\n",
    "\n",
    "# A convenience for displaying visualizations.\n",
    "from IPython.display import Image\n",
    "# Packages for rendering our tree.\n",
    "\n",
    "import pydotplus\n",
    "import graphviz\n",
    "\n",
    "customers = pd.DataFrame()\n",
    "customers['purchases_amount'] = [105, 65, 89, 99, 149, 102, 34, 120, 129, 39,20, 30, 109, 40, 55, 100, 23, 20, 70, 10]\n",
    "customers['purchases_items'] = [1, 4, 5, 4, 7, 1, 2, 10, 6, 5,\n",
    "                                1, 3, 2, 1, 5, 10, 3, 3, 1, 1]\n",
    "customers['promo'] = [1, 1, 0, 1, 0, 0, 0, 0, 0, 1,\n",
    "                      1, 1, 1, 0, 1, 1, 1, 0, 1, 1]\n",
    "customers['email_list'] = [1, 0, 1, 1, 1, 0, 1, 1, 1, 1,\n",
    "                           0, 1, 1, 0, 1, 0, 1, 1, 0, 0]\n",
    "customers['checkouts'] = [1, 5, 3, 3, 1, 2, 4, 4, 1, 1,\n",
    "                          1, 1, 2, 4, 1, 1, 2, 1, 1, 1]\n",
    "\n",
    "repeat_customer = pd.DataFrame()\n",
    "repeat_customer['repeat'] = [1, 1, 1, 1, 1, 1, 1, 1, 1, 1,\n",
    "                             0, 0, 0, 0, 0, 0, 0, 0, 0, 0]\n",
    "\n",
    "print 'Here is an example of rendering tree. '\n",
    "\n",
    "# Initialize and train our tree.\n",
    "decision_tree = tree.DecisionTreeClassifier(\n",
    "    criterion='entropy',\n",
    "    max_features=1,\n",
    "    max_depth=4,\n",
    "    random_state = 1337\n",
    ")\n",
    "decision_tree.fit(customers, repeat_customer)\n",
    "\n",
    "# Render our tree.\n",
    "dot_data = tree.export_graphviz(\n",
    "    decision_tree, out_file=None,\n",
    "    feature_names=customers.columns,\n",
    "    class_names=['Not Returning', 'Returning'],\n",
    "    filled=True\n",
    ")\n",
    "graph = pydotplus.graph_from_dot_data(dot_data)\n",
    "Image(graph.create_png())\n",
    "\n"
   ]
  },
  {
   "cell_type": "code",
   "execution_count": null,
   "metadata": {},
   "outputs": [],
   "source": [
    "# Initialize and train our tree.\n",
    "y = df['Class']\n",
    "X = df.iloc[:,:-1]\n",
    "decision_tree = tree.DecisionTreeClassifier(\n",
    "    criterion='entropy',\n",
    "    max_features=1,\n",
    "    max_depth=4,\n",
    "    random_state = 1337\n",
    ")\n",
    "decision_tree.fit(X, y)\n",
    "\n",
    "# Render our tree.\n",
    "dot_data = tree.export_graphviz(\n",
    "    decision_tree, out_file=None,\n",
    "    feature_names=X.columns,\n",
    "    class_names=['Not Returning', 'Returning'],\n",
    "    filled=True\n",
    ")\n",
    "graph = pydotplus.graph_from_dot_data(dot_data)\n",
    "Image(graph.create_png())\n"
   ]
  },
  {
   "cell_type": "markdown",
   "metadata": {},
   "source": [
    "There is not a hard and fast rule to how the tree is built, so it doesn't build the same way every time. You saw this above when we discussed the random_state argument. In addition, they are incredibly prone to overfitting, particularly if you allow them to grow too deep or complex. Also note that because they are working from information gain, they are biased towards the dominant class, so balanced data is needed."
   ]
  },
  {
   "cell_type": "code",
   "execution_count": null,
   "metadata": {},
   "outputs": [],
   "source": [
    "from sklearn import ensemble\n",
    "from sklearn.model_selection import cross_val_score\n",
    "\n",
    "rfc = ensemble.RandomForestClassifier()\n",
    "\n",
    "score = cross_val_score(rfc, X, y, cv=4)\n",
    "print (score)\n",
    "print(\"Unweighted Accuracy: %0.2f (+/- %0.2f)\" % (score.mean(), score2.std()))\n"
   ]
  },
  {
   "cell_type": "markdown",
   "metadata": {},
   "source": [
    "<font size=\"6\"><a id='6'>6. Support Vector Machine</a></font> \n"
   ]
  },
  {
   "cell_type": "markdown",
   "metadata": {},
   "source": [
    " In SVM, all the classes are bounded by a line! Boundary line passing close to data points is bad because it'll be susceptable to noise and be worse at predicting new data points than a boundary line farther away. The margin as the distance between the nearest point of each class in the boundary. The goal of SVM is find the best boundary, or the boundary that optimizes the margin.\n",
    " \n",
    " SVM's primary advantage is its flexibility. It can have great visual explanatory power (linear SVC), tremendous accuracy (kernel smoothing), clustering (SVClustering), or the ability to control the specificity of training (SVR). "
   ]
  },
  {
   "cell_type": "code",
   "execution_count": null,
   "metadata": {},
   "outputs": [],
   "source": [
    "from sklearn.svm import SVC\n",
    "\n",
    "svm = SVC(kernel = 'linear')\n",
    "svm.fit(X, y)"
   ]
  },
  {
   "cell_type": "code",
   "execution_count": null,
   "metadata": {},
   "outputs": [],
   "source": [
    "# Visualize our model\n",
    "y_min, y_max = X.test.min() - 1, X.test.max() + 3\n",
    "x_min, x_max = X.project.min() - 1, X.project.max() + 3\n",
    "xx, yy = np.meshgrid(np.arange(x_min, x_max, .1),\n",
    "                     np.arange(y_min, y_max, .1))\n",
    "\n",
    "Z = (svm.predict(np.c_[xx.ravel(), yy.ravel()])=='pass')\n",
    "\n",
    "Z = Z.reshape(xx.shape)\n",
    "plt.contourf(xx, yy, Z, cmap=plt.cm.coolwarm, alpha=0.8)\n",
    "plt.scatter(test_data.project[0:10], test_data.test[0:10], marker='x')\n",
    "plt.scatter(test_data.project[10:20], test_data.test[10:20], marker='o')\n",
    "plt.xlim(x_min, x_max)\n",
    "plt.ylim(y_min, y_max)\n",
    "plt.xlabel('Project Grade')\n",
    "plt.ylabel('Test Grade')\n",
    "plt.title('Passing Grades SVM Example')\n",
    "plt.show()"
   ]
  },
  {
   "cell_type": "code",
   "execution_count": null,
   "metadata": {},
   "outputs": [],
   "source": [
    "#plt.scatter(y, svr.predict(X))\n",
    "\n",
    "from sklearn.model_selection import cross_val_score\n",
    "\n",
    "print cross_val_score(svr, X, y, cv=5)"
   ]
  },
  {
   "cell_type": "markdown",
   "metadata": {},
   "source": [
    "<font size=\"6\"><a id='7'>7. Gradient Boosting</a></font> "
   ]
  },
  {
   "cell_type": "markdown",
   "metadata": {},
   "source": [
    "Boosting Models, models the data over and over, each time adjusting the model based on what was learned from the previous one. The principle behind boosting is iterative. We start by fitting a simple model on all the data. We identify the information that the model was not able to account for (incorrect predictions in classifier, and residuals in regression) and build a new simple model that targets that new pool of information. We repeat this until we reach some predetermined stopping rule.  The combination of all the models is then used to make the final predictions"
   ]
  },
  {
   "cell_type": "markdown",
   "metadata": {},
   "source": [
    "The regression model is fitted by moving down the steepest 'downhill' gradient until we reach the lowest point of the surface, where all possible gradients are 'uphill.' The final model is made up of the parameter estimates that define that location on the surface."
   ]
  },
  {
   "cell_type": "markdown",
   "metadata": {},
   "source": [
    "The loss function to minimize is the sum of the squared residuals:\n",
    "\n",
    "$$\\frac1{n}\\sum_{i=1}^n(y_i-(\\alpha + \\beta x_i))^2$$"
   ]
  },
  {
   "cell_type": "code",
   "execution_count": null,
   "metadata": {},
   "outputs": [],
   "source": [
    "from sklearn import ensemble\n",
    "from sklearn.utils import shuffle\n",
    "from sklearn.metrics import mean_squared_error\n",
    "import scipy\n"
   ]
  },
  {
   "cell_type": "code",
   "execution_count": null,
   "metadata": {},
   "outputs": [],
   "source": [
    "# Create training and test sets.\n",
    "offset = int(X.shape[0] * 0.9)\n",
    "\n",
    "# Put 90% of the data in the training set.\n",
    "X_train, y_train = X[:offset], y[:offset]\n",
    "\n",
    "# And put 10% in the test set.\n",
    "X_test, y_test = X[offset:], y[offset:]"
   ]
  },
  {
   "cell_type": "code",
   "execution_count": null,
   "metadata": {},
   "outputs": [],
   "source": [
    "# We'll make 500 iterations, use 2-deep trees, and set our loss function.\n",
    "params = {'n_estimators': 500,\n",
    "          'max_depth': 2,\n",
    "          'loss': 'deviance'}\n",
    "\n",
    "# Initialize and fit the model.\n",
    "clf = ensemble.GradientBoostingClassifier(**params)\n",
    "clf.fit(X_train, y_train)\n",
    "\n",
    "predict_train = clf.predict(X_train)\n",
    "predict_test = clf.predict(X_test)\n",
    "\n",
    "# Accuracy tables.\n",
    "table_train = pd.crosstab(y_train, predict_train, margins=True)\n",
    "table_test = pd.crosstab(y_test, predict_test, margins=True)\n",
    "\n",
    "train_tI_errors = table_train.loc[0.0,1.0] / table_train.loc['All','All']\n",
    "train_tII_errors = table_train.loc[1.0,0.0] / table_train.loc['All','All']\n",
    "\n",
    "test_tI_errors = table_test.loc[0.0,1.0]/table_test.loc['All','All']\n",
    "test_tII_errors = table_test.loc[1.0,0.0]/table_test.loc['All','All']\n",
    "\n",
    "print((\n",
    "    'Training set accuracy:\\n'\n",
    "    'Percent Type I errors: {}\\n'\n",
    "    'Percent Type II errors: {}\\n\\n'\n",
    "    'Test set accuracy:\\n'\n",
    "    'Percent Type I errors: {}\\n'\n",
    "    'Percent Type II errors: {}'\n",
    ").format(train_tI_errors, train_tII_errors, test_tI_errors, test_tII_errors))\n"
   ]
  },
  {
   "cell_type": "code",
   "execution_count": null,
   "metadata": {},
   "outputs": [],
   "source": [
    "feature_importance = clf.feature_importances_\n",
    "\n",
    "# Make importances relative to max importance.\n",
    "feature_importance = 100.0 * (feature_importance / feature_importance.max())\n",
    "sorted_idx = np.argsort(feature_importance)\n",
    "pos = np.arange(sorted_idx.shape[0]) + .5\n",
    "plt.subplot(1, 2, 2)\n",
    "plt.barh(pos, feature_importance[sorted_idx], align='center')\n",
    "plt.yticks(pos, X.columns[sorted_idx])\n",
    "plt.xlabel('Relative Importance')\n",
    "plt.title('Variable Importance')\n",
    "plt.show()"
   ]
  },
  {
   "cell_type": "markdown",
   "metadata": {},
   "source": [
    "<font size=\"6\"><a id='8'>8. Ridge Classifier</a></font> "
   ]
  },
  {
   "cell_type": "markdown",
   "metadata": {},
   "source": [
    "**Ridge regression** minimizes this cost function:\n",
    "\n",
    "$$\\sum_{i=1}^n(y_i-(\\alpha+\\beta x_i))^2+\\lambda\\sum_{j=1}^p\\beta_j^2 $$\n",
    "\n",
    "Comparing this cost function to the OLS cost function above, you can see it consists of the OLS function with a new part to the right:\n",
    "\n",
    "$$\\lambda\\sum_{j=1}^p\\beta_j^2 $$\n"
   ]
  },
  {
   "cell_type": "code",
   "execution_count": null,
   "metadata": {},
   "outputs": [],
   "source": [
    "from sklearn import linear_model\n"
   ]
  },
  {
   "cell_type": "code",
   "execution_count": null,
   "metadata": {},
   "outputs": [],
   "source": [
    "regr1 = linear_model.LinearRegression()\n",
    "#Y_train = #df_train['income'].values.reshape(-1, 1)\n",
    "#X_train = df_train.loc[:, ~(df_train.columns).isin(['income'])]\n",
    "regr1.fit(X, y)\n",
    "print('\\nR-squared simple model:')\n",
    "print(regr1.score(X, y))"
   ]
  },
  {
   "cell_type": "code",
   "execution_count": null,
   "metadata": {},
   "outputs": [],
   "source": [
    "ridgeregr = linear_model.RidgeClassifier(alpha=10, fit_intercept=True) \n",
    "ridgeregr.fit(X, y)\n",
    "print(ridgeregr.score(X, y))\n"
   ]
  },
  {
   "cell_type": "markdown",
   "metadata": {},
   "source": [
    "<font size=\"6\"><a id='9'>9. Naive Bayesian</a></font> "
   ]
  },
  {
   "cell_type": "code",
   "execution_count": null,
   "metadata": {},
   "outputs": [],
   "source": [
    "# Our data is binary / boolean, so we're importing the Bernoulli classifier.\n",
    "from sklearn.naive_bayes import BernoulliNB\n",
    "\n",
    "# Instantiate our model and store it in a new variable.\n",
    "bnb = BernoulliNB()\n",
    "\n",
    "# Fit our model to the data.\n",
    "bnb.fit(X, y)\n",
    "\n",
    "print(bnb.score(X, y))\n",
    "\n",
    "'''\n",
    "# Classify, storing the result in a new variable.\n",
    "y_pred = bnb.predict(data)\n",
    "\n",
    "# Display our results.\n",
    "print(\"Number of mislabeled points out of a total {} points : {}\".format(\n",
    "    data.shape[0],\n",
    "    (target != y_pred).sum()\n",
    "))\n",
    "'''"
   ]
  }
 ],
 "metadata": {
  "kernelspec": {
   "display_name": "Python 2",
   "language": "python",
   "name": "python2"
  },
  "language_info": {
   "codemirror_mode": {
    "name": "ipython",
    "version": 2
   },
   "file_extension": ".py",
   "mimetype": "text/x-python",
   "name": "python",
   "nbconvert_exporter": "python",
   "pygments_lexer": "ipython2",
   "version": "2.7.15"
  }
 },
 "nbformat": 4,
 "nbformat_minor": 2
}
