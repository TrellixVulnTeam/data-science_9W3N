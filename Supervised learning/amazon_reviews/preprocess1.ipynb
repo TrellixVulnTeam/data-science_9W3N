{
 "cells": [
  {
   "cell_type": "code",
   "execution_count": 1,
   "metadata": {},
   "outputs": [],
   "source": [
    "import numpy as np \n",
    "import pandas as pd \n",
    "import re\n",
    "import nltk \n",
    "import matplotlib.pyplot as plt\n",
    "%matplotlib inline\n",
    "\n",
    "import warnings\n",
    "warnings.filterwarnings('ignore')"
   ]
  },
  {
   "cell_type": "code",
   "execution_count": 2,
   "metadata": {},
   "outputs": [
    {
     "name": "stdout",
     "output_type": "stream",
     "text": [
      "         asin   helpful  overall  \\\n",
      "0  1384719342    [0, 0]        5   \n",
      "1  1384719342  [13, 14]        5   \n",
      "2  1384719342    [1, 1]        5   \n",
      "\n",
      "                                          reviewText   reviewTime  \\\n",
      "0  Not much to write about here, but it does exac...  02 28, 2014   \n",
      "1  The product does exactly as it should and is q...  03 16, 2013   \n",
      "2  The primary job of this device is to block the...  08 28, 2013   \n",
      "\n",
      "       reviewerID                                      reviewerName  \\\n",
      "0  A2IBPI20UZIR0U  cassandra tu \"Yeah, well, that's just like, u...   \n",
      "1  A14VAT5EAX3D9S                                              Jake   \n",
      "2  A195EZSQDW3E21                     Rick Bennette \"Rick Bennette\"   \n",
      "\n",
      "                summary  unixReviewTime  \n",
      "0                  good      1393545600  \n",
      "1                  Jake      1363392000  \n",
      "2  It Does The Job Well      1377648000  \n",
      "\n",
      "\n",
      "<class 'pandas.core.frame.DataFrame'>\n",
      "RangeIndex: 10261 entries, 0 to 10260\n",
      "Data columns (total 9 columns):\n",
      "asin              10261 non-null object\n",
      "helpful           10261 non-null object\n",
      "overall           10261 non-null int64\n",
      "reviewText        10261 non-null object\n",
      "reviewTime        10261 non-null object\n",
      "reviewerID        10261 non-null object\n",
      "reviewerName      10234 non-null object\n",
      "summary           10261 non-null object\n",
      "unixReviewTime    10261 non-null int64\n",
      "dtypes: int64(2), object(7)\n",
      "memory usage: 721.5+ KB\n",
      "None\n",
      "\n",
      "\n",
      "asin              0.000000\n",
      "helpful           0.000000\n",
      "overall           0.000000\n",
      "reviewText        0.000000\n",
      "reviewTime        0.000000\n",
      "reviewerID        0.000000\n",
      "reviewerName      0.002631\n",
      "summary           0.000000\n",
      "unixReviewTime    0.000000\n",
      "dtype: float64\n"
     ]
    }
   ],
   "source": [
    "df = pd.read_json(\"/home/micah/Desktop/data/Amazon/Music.json\", lines = True)\n",
    "\n",
    "pd.set_option('display.max_columns', 999)\n",
    "\n",
    "print df.head(n=3)\n",
    "print '\\n'\n",
    "print df.info()\n",
    "print '\\n'\n",
    "print df.isnull().sum()/len(df)"
   ]
  },
  {
   "cell_type": "code",
   "execution_count": 3,
   "metadata": {},
   "outputs": [
    {
     "data": {
      "text/plain": [
       "<matplotlib.axes._subplots.AxesSubplot at 0x7f328ed0e650>"
      ]
     },
     "execution_count": 3,
     "metadata": {},
     "output_type": "execute_result"
    },
    {
     "data": {
      "image/png": "[encoded data removed]",
      "text/plain": [
       "<Figure size 432x288 with 1 Axes>"
      ]
     },
     "metadata": {},
     "output_type": "display_data"
    }
   ],
   "source": [
    "df.overall.value_counts().plot(kind='pie', autopct='%1.0f%%')\n"
   ]
  },
  {
   "cell_type": "code",
   "execution_count": 4,
   "metadata": {},
   "outputs": [
    {
     "name": "stdout",
     "output_type": "stream",
     "text": [
      "Distinct values for reviewerID is 1429\n",
      "Distinct values for asin is 900\n",
      "Distinct values for reviewerName is 1397\n",
      "Distinct values for reviewText is 10255\n",
      "Distinct values for overall is 5\n",
      "Distinct values for summary is 8852\n",
      "Distinct values for unixReviewTime is 1570\n",
      "Distinct values for reviewTime is 1570\n",
      "\n",
      "\n",
      "asin              object\n",
      "helpful           object\n",
      "overall            int64\n",
      "reviewText        object\n",
      "reviewTime        object\n",
      "reviewerID        object\n",
      "reviewerName      object\n",
      "summary           object\n",
      "unixReviewTime     int64\n",
      "dtype: object\n"
     ]
    }
   ],
   "source": [
    "for i in list( set(df.columns.tolist()) - set(['helpful']) ):\n",
    "    print 'Distinct values for {} is {}'.format(i, df[i].nunique() )\n",
    "print '\\n'    \n",
    "print df.dtypes\n"
   ]
  },
  {
   "cell_type": "code",
   "execution_count": 5,
   "metadata": {},
   "outputs": [
    {
     "data": {
      "text/plain": [
       "asin              object\n",
       "helpful           object\n",
       "overall           object\n",
       "reviewText        object\n",
       "reviewTime        object\n",
       "reviewerID        object\n",
       "reviewerName      object\n",
       "summary           object\n",
       "unixReviewTime     int64\n",
       "dtype: object"
      ]
     },
     "execution_count": 5,
     "metadata": {},
     "output_type": "execute_result"
    }
   ],
   "source": [
    "# change the over data type to object\n",
    "df['overall']=df['overall'].astype(str)\n",
    "\n",
    "df.dtypes"
   ]
  },
  {
   "cell_type": "code",
   "execution_count": 6,
   "metadata": {},
   "outputs": [
    {
     "name": "stdout",
     "output_type": "stream",
     "text": [
      "                                          reviewText  \\\n",
      "0  Not much to write about here, but it does exac...   \n",
      "1  The product does exactly as it should and is q...   \n",
      "2  The primary job of this device is to block the...   \n",
      "3  Nice windscreen protects my MXL mic and preven...   \n",
      "4  This pop filter is great. It looks and perform...   \n",
      "\n",
      "                                 summary  \\\n",
      "0                                   good   \n",
      "1                                   Jake   \n",
      "2                   It Does The Job Well   \n",
      "3          GOOD WINDSCREEN FOR THE MONEY   \n",
      "4  No more pops when I record my vocals.   \n",
      "\n",
      "                                       reviewerName overall  \n",
      "0  cassandra tu \"Yeah, well, that's just like, u...       5  \n",
      "1                                              Jake       5  \n",
      "2                     Rick Bennette \"Rick Bennette\"       5  \n",
      "3                         RustyBill \"Sunday Rocker\"       5  \n",
      "4                                     SEAN MASLANKA       5  \n"
     ]
    }
   ],
   "source": [
    "df1 = df[['reviewText', 'summary','reviewerName','overall']]\n",
    "print df1.head()"
   ]
  },
  {
   "cell_type": "code",
   "execution_count": 7,
   "metadata": {},
   "outputs": [],
   "source": [
    "feature_one = df1['reviewText']#.values.tolist()\n",
    "labels = df1['overall'].values"
   ]
  },
  {
   "cell_type": "code",
   "execution_count": 8,
   "metadata": {},
   "outputs": [
    {
     "name": "stdout",
     "output_type": "stream",
     "text": [
      "0        Not much to write about here, but it does exac...\n",
      "1        The product does exactly as it should and is q...\n",
      "2        The primary job of this device is to block the...\n",
      "3        Nice windscreen protects my MXL mic and preven...\n",
      "4        This pop filter is great. It looks and perform...\n",
      "5        So good that I bought another one.  Love the h...\n",
      "6        I have used monster cables for years, and with...\n",
      "7        I now use this cable to run from the output of...\n",
      "8        Perfect for my Epiphone Sheraton II.  Monster ...\n",
      "9        Monster makes the best cables and a lifetime w...\n",
      "10       Monster makes a wide array of cables, includin...\n",
      "11       I got it to have it if I needed it. I have fou...\n",
      "12       If you are not use to using a large sustaining...\n",
      "13       I love it, I used this for my Yamaha ypt-230 a...\n",
      "14       I bought this to use in my home studio to cont...\n",
      "15       I bought this to use with my keyboard. I wasn'...\n",
      "16       This Fender cable is the perfect length for me...\n",
      "17       wanted it just on looks alone...It is a nice l...\n",
      "18       I've been using these cables for more than 4 m...\n",
      "19       Fender cords look great and work just as well....\n",
      "20       This is a cool looking cheap cable which works...\n",
      "21       The Fender 18 Feet California Clear Instrument...\n",
      "22       Very good cable. Well made and it looks great ...\n",
      "23       Got this cable to run a rockband keyboard cont...\n",
      "24       When I was searching for MIDI cables for my AR...\n",
      "25       Cant go wrong. Great quality on a budget price...\n",
      "26       The ends of the midi cable look and feel like ...\n",
      "27       Just trying to find a midi to midi was a task,...\n",
      "28       The Hosa XLR cables are affordable and very he...\n",
      "29       I bought these to go from my board to the amp....\n",
      "                               ...                        \n",
      "10231    For a long time, I never thought much about gu...\n",
      "10232    My father is a full-time gigging musician prim...\n",
      "10233    D'Addario has always been one of the best stri...\n",
      "10234    I usually use Gibson Vintage Nickle Strings on...\n",
      "10235    Excellent tone, and I'm a bit surprised by tha...\n",
      "10236    I've been stringing my guitars with D'Addario ...\n",
      "10237    Don't get me wrong, the improvement over the o...\n",
      "10238    These have a nice bright sound and are easy on...\n",
      "10239    D'Addario's NYXL1046 Nickel Plated Electric Gu...\n",
      "10240    Just put these on my Martin DCX1E and they sou...\n",
      "10241    I ordered this for my husband, the musician. H...\n",
      "10242    I had used Elixer strings for several years on...\n",
      "10243    I can't speak on the claim for a longer string...\n",
      "10244    Great product with nice feel and tone. I'm onl...\n",
      "10245    I have reviewed these strings before, and fran...\n",
      "10246    I had the opportunity to try a set of Elixir N...\n",
      "10247    I was looking forward to trying these, as I've...\n",
      "10248    I put these strings on my Guild acoustic elect...\n",
      "10249    I ordered this for my husband, the musician.  ...\n",
      "10250    I had used Elixer strings for several years on...\n",
      "10251    True to phosphor bronze these strings have a m...\n",
      "10252    I've used Elixirs for about five years now. Th...\n",
      "10253    I'm a D'Addario man myself, but hey free is fr...\n",
      "10254    I really like these strings.  While they are n...\n",
      "10255    I have lots of friends who play these strings....\n",
      "10256              Great, just as expected.  Thank to all.\n",
      "10257    I've been thinking about trying the Nanoweb st...\n",
      "10258    I have tried coated strings in the past ( incl...\n",
      "10259    Well, MADE by Elixir and DEVELOPED with Taylor...\n",
      "10260    These strings are really quite good, but I wou...\n",
      "Name: reviewText, Length: 10261, dtype: object\n",
      "0    not much to write about here but it does exact...\n",
      "1    the product does exactly as it should and is q...\n",
      "2    the primary job of this device is to block the...\n",
      "3    nice windscreen protects my mxl mic and preven...\n",
      "4    this pop filter is great it looks and performs...\n",
      "Name: reviewText, dtype: object\n",
      "time it took is -4007.838866\n"
     ]
    }
   ],
   "source": [
    "import time\n",
    "\n",
    "beg = time.time()\n",
    "#feature_one = df1['reviewText']\n",
    "print feature_one\n",
    "def normalize_texts(features):\n",
    "    #texts = texts.str.lower().str.replace('[\\W]', ' ').str.replace('[^a-z0-1\\s]', '')\n",
    "    processed_features = []\n",
    "\n",
    "    for sentence in range(0, len(features)):\n",
    "        # Remove all the special characters\n",
    "        features[sentence] = re.sub(r'\\W', ' ', str(features[sentence]))\n",
    "        # remove all single characters\n",
    "        features[sentence]= re.sub(r'\\s+[a-zA-Z]\\s+', ' ', features[sentence])\n",
    "        # Remove single characters from the start\n",
    "        features[sentence] = re.sub(r'\\^[a-zA-Z]\\s+', ' ', features[sentence]) \n",
    "        # Substituting multiple spaces with single space\n",
    "        features[sentence] = re.sub(r'\\s+', ' ', features[sentence], flags=re.I)\n",
    "        # Removing prefixed 'b'\n",
    "        features[sentence] = re.sub(r'^b\\s+', '', features[sentence])\n",
    "        # Converting to Lowercase\n",
    "        features[sentence]  = features[sentence].lower()\n",
    "        ##processed_features.append(processed_feature)\n",
    "    return features\n",
    "    \n",
    "#df1['reviewText'] = normalize_texts(df1['reviewText'])  \n",
    "df1['reviewText'] = normalize_texts(df1['reviewText'])  \n",
    "\n",
    "print df1['reviewText'][:5]\n",
    "end = time.time()\n",
    "print 'time it took is {}'.format(beg-end)"
   ]
  },
  {
   "cell_type": "code",
   "execution_count": null,
   "metadata": {},
   "outputs": [],
   "source": [
    "df1['summary'] = normalize_texts(df1['summary'])  \n",
    "print '1'\n",
    "df1['reviewerName'] = normalize_texts(df1['reviewerName'])  \n",
    "df1.to_csv('data1.csv', index= False)\n",
    "print 'done'"
   ]
  },
  {
   "cell_type": "code",
   "execution_count": null,
   "metadata": {},
   "outputs": [],
   "source": [
    "#Representing Text in Numeric Form\n",
    "# a. Bag of words = simplest\n",
    "# Example: Doc1 = \"I like to play football\", Doc2 = \"It is a good game\", Doc3 = \"I prefer football over rugby\"\n",
    "# vocabulary  = [I, like, to, play, football, it, is, a, good, game, prefer, over, rugby]\n",
    "# Convert Doc1 into vector features based on the frequency of each words: \n",
    "# Doc1, the feature vector will look like this: [1, 1, 1, 1, 1, 0, 0, 0, 0, 0, 0, 0, 0]\n",
    "# b. TF-IDF\n",
    "#In the bag of words approach, each word has the same weight. The idea behind the TF-IDF approach is that the words that occur less in all the documents and more in individual document contribute more towards classification.\n",
    "\n",
    "#TF-IDF is a combination of two terms. Term frequency and Inverse Document frequency. They can be calculated as:\n",
    "#TF  = (Frequency of a word in the document)/(Total words in the document)\n",
    "#IDF = Log((Total number of docs)/(Number of docs containing the word)) => to weed out words like I, he/she, the, ..."
   ]
  },
  {
   "cell_type": "code",
   "execution_count": null,
   "metadata": {},
   "outputs": [],
   "source": [
    "from nltk.corpus import stopwords\n",
    "from sklearn.feature_extraction.text import CountVectorizer\n",
    "# CountVectorizer = TfidfVectorizer class that can be used to convert text features into TF-IDF feature vectors\n",
    "vectorizer = CountVectorizer(max_features=2500, min_df=7, max_df=0.8, stop_words=stopwords.words('english'))\n",
    "processed_features = vectorizer.fit_transform(feature_one).toarray()\n",
    "\n",
    "# label = vectorizer.transform(label).toarray() ?\n",
    "\n",
    "# max_features =2500 =>2500 most frequently occurring words to create a bag of words feature vector.\n",
    "# Words that occur less frequently are not very useful for classification.\n",
    "# Similarly, max_df specifies that only use those words that occur in a maximum of 80% of the documents.\n",
    "# Words that occur in all documents are too common and are not very useful for classification.\n",
    "# Similarly, min-df is set to 7 which shows that include words that occur in at least 7 documents."
   ]
  },
  {
   "cell_type": "code",
   "execution_count": null,
   "metadata": {},
   "outputs": [],
   "source": [
    "from sklearn.model_selection import train_test_split\n",
    "\n",
    "X_train, X_test, y_train, y_test = train_test_split(processed_features, labels, test_size=0.2, random_state=0)\n",
    "from sklearn.ensemble import RandomForestClassifier\n",
    "\n",
    "text_classifier = RandomForestClassifier(n_estimators=200, random_state=0)\n",
    "text_classifier.fit(X_train, y_train)\n",
    "predictions = text_classifier.predict(X_test)\n"
   ]
  },
  {
   "cell_type": "code",
   "execution_count": null,
   "metadata": {},
   "outputs": [],
   "source": [
    "from sklearn.metrics import classification_report, confusion_matrix, accuracy_score\n",
    "\n",
    "print(confusion_matrix(y_test,predictions))\n",
    "print(classification_report(y_test,predictions))\n",
    "print(accuracy_score(y_test, predictions))"
   ]
  },
  {
   "cell_type": "code",
   "execution_count": null,
   "metadata": {},
   "outputs": [],
   "source": []
  },
  {
   "cell_type": "code",
   "execution_count": null,
   "metadata": {},
   "outputs": [],
   "source": []
  }
 ],
 "metadata": {
  "kernelspec": {
   "display_name": "Python 2",
   "language": "python",
   "name": "python2"
  },
  "language_info": {
   "codemirror_mode": {
    "name": "ipython",
    "version": 2
   },
   "file_extension": ".py",
   "mimetype": "text/x-python",
   "name": "python",
   "nbconvert_exporter": "python",
   "pygments_lexer": "ipython2",
   "version": "2.7.15"
  }
 },
 "nbformat": 4,
 "nbformat_minor": 2
}
