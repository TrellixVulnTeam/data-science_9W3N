{
 "cells": [
  {
   "cell_type": "markdown",
   "metadata": {},
   "source": [
    "## 1. Concepts"
   ]
  },
  {
   "cell_type": "markdown",
   "metadata": {},
   "source": [
    "1. Tensors.\n",
    "\n",
    "Tensor is the core data structure of tensorflow. It is similar to array and it will look like this: [1, 2, 3]. \n",
    "It can have any number of n-dimensions. Tensors can easily be converted to NumPy arrays using .eval()."
   ]
  },
  {
   "cell_type": "markdown",
   "metadata": {},
   "source": [
    "2. Rank. \n",
    "\n",
    "\n",
    "When we talk about tensors, one of their defining characteristics is its rank. The rank is just the dimension of the tensor and it is equivalent to ndim function of numpy. \n",
    "\n",
    "Examples: \n",
    "\n",
    "[[1, 1, 1], [2, 2, 2]], [[3, 3, 3], [4, 4, 4]] has 2 ranks, while [1, 2, 3] has a rank of 1, and a scalar number has a rank of 0. "
   ]
  },
  {
   "cell_type": "markdown",
   "metadata": {},
   "source": [
    "3. Nodes\n",
    "\n",
    "Node is where you can store the value to manipulate it for future purpose. The first type of node we need to know is a constant. "
   ]
  },
  {
   "cell_type": "code",
   "execution_count": null,
   "metadata": {
    "collapsed": true
   },
   "outputs": [],
   "source": [
    "import tensorflow as tf\n",
    "const_node = tf.constant(2019)\n",
    "print(const_node)# Tensor(\"Const:0\", shape=(), dtype=int32)"
   ]
  },
  {
   "cell_type": "markdown",
   "metadata": {},
   "source": [
    "As you may have noticed, we are getting only the description of the problem not the value. \n",
    "\n",
    "Now lets try to manipulate our function to see if we can print any value result. "
   ]
  },
  {
   "cell_type": "code",
   "execution_count": null,
   "metadata": {
    "collapsed": true
   },
   "outputs": [],
   "source": [
    "# Let's make a node that adds our constant to itself\n",
    "subtract_node = tf.subtract(const_node, const_node)\n",
    "print(subtract_node)# Tensor(\"Subtract:0\", shape=(), dtype=int32)"
   ]
  },
  {
   "cell_type": "markdown",
   "metadata": {},
   "source": [
    "As you can see we still don't see any values when we print our node.\n",
    "\n",
    "Let's introduce another node before we try to print the value of our nodes. \n",
    "\n",
    "Placeholder is for other data to come in and be used by the function. This time we are putting only the definition of a value and not any scalar or string in our placeholder! "
   ]
  },
  {
   "cell_type": "code",
   "execution_count": null,
   "metadata": {
    "collapsed": true
   },
   "outputs": [],
   "source": [
    "placeholder_node = tf.placeholder(tf.int32)\n",
    "print(placeholder_node) # Tensor(\"Placeholder:0\", dtype=int32)"
   ]
  },
  {
   "cell_type": "markdown",
   "metadata": {},
   "source": [
    "4. Sessions\n",
    "\n",
    "It is time to access the values we stores in our nodes and we need \"Session\" for that. "
   ]
  },
  {
   "cell_type": "code",
   "execution_count": null,
   "metadata": {
    "collapsed": true
   },
   "outputs": [],
   "source": [
    "sess = tf.Session()\n",
    "sess.run(const_node)# 2019"
   ]
  },
  {
   "cell_type": "markdown",
   "metadata": {},
   "source": [
    "## 2. Drills"
   ]
  },
  {
   "cell_type": "markdown",
   "metadata": {},
   "source": [
    "Now let try to put everything together to create some additive function."
   ]
  },
  {
   "cell_type": "code",
   "execution_count": null,
   "metadata": {
    "collapsed": true
   },
   "outputs": [],
   "source": [
    "# placeholder named  my_placeholder\n",
    "my_placeholder = tf.placeholder(tf.int32)\n",
    "\n",
    "# Create an operator node that takes our placeholder and a constant node\n",
    "add_10 = tf.add(my_placeholder, tf.constant(10))\n",
    "\n",
    "# Run the node to return our output\n",
    "sess.run(add_10, {my_placeholder : 20})# prints 30\n",
    "\n",
    "sess.run(add_10, {my_placeholder: [[10, 20], [30, 40]]})\n",
    "# array([[ 20,  30],\n",
    "#   [ 40,  50]], dtype=int32)"
   ]
  },
  {
   "cell_type": "markdown",
   "metadata": {},
   "source": [
    "In the first instance of sess.run, we simply added 10 to 20. \n",
    "In the second instance, all the values in our 2 dimensional node is added by 10. "
   ]
  },
  {
   "cell_type": "code",
   "execution_count": null,
   "metadata": {
    "collapsed": true
   },
   "outputs": [],
   "source": []
  }
 ],
 "metadata": {
  "kernelspec": {
   "display_name": "Python 3",
   "language": "python",
   "name": "python3"
  },
  "language_info": {
   "codemirror_mode": {
    "name": "ipython",
    "version": 3
   },
   "file_extension": ".py",
   "mimetype": "text/x-python",
   "name": "python",
   "nbconvert_exporter": "python",
   "pygments_lexer": "ipython3",
   "version": "3.6.2"
  }
 },
 "nbformat": 4,
 "nbformat_minor": 2
}
