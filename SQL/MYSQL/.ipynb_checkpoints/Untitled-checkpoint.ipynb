{
 "cells": [
  {
   "cell_type": "markdown",
   "metadata": {},
   "source": [
    "# Challenge\n",
    "\n",
    "There are three tables: \n",
    "\n",
    "## 1. Card table : \n",
    "\n",
    "\n",
    "| id | brand            | type   |\n",
    "\n",
    "+----+------------------+--------+\n",
    "\n",
    "|  1 | Mastercard       | Credit |\n",
    "\n",
    "|  2 | American Express | Credit |\n",
    "\n",
    "\n",
    "\n",
    "\n",
    "## 2. Payees table: \n",
    "\n",
    "\n",
    "\n",
    "| id | name   | vertical           |\n",
    "\n",
    "+----+--------+--------------------+\n",
    "\n",
    "|  1 | A Corp | Rent & Real Estate |\n",
    "\n",
    "|  2 | B Corp | Rent & Real Estate |\n",
    "\n",
    "|  3 | C Corp | Rent & Real Estate |\n",
    "\n",
    "\n",
    "## 3. Payees table:\n",
    "\n",
    "\n",
    "| id | submitted_at        | success | payee_id | card_id | principal | fee    |\n",
    "\n",
    "+----+---------------------+---------+----------+---------+-----------+--------+\n",
    "\n",
    "|  1 | 2018-08-31 11:56:59 |       1 |        2 |      20 |  10960.90 |  14.01 |\n",
    "\n",
    "|  2 | 2018-07-28 06:44:37 |       1 |        7 |     149 |  14170.00 | 354.25 |\n",
    "\n",
    "|  3 | 2018-06-06 15:50:02 |       1 |       19 |      39 |  19365.00 | 484.13 |\n",
    "\n",
    "\n",
    "\n",
    "Questions: \n",
    "1. Show all of the payees that have had at least $100,000 in successful payment volume (volume defined as principal + fee)  submitted in 2018. Please have the query output the payee id and associated 2018 successful volume figure.\n",
    "\n",
    "2. A list of unsuccessful Visa payments submitted in the last 90 days rolling. Please have the query output the payment id, the name of the payee, the vertical of the payee and the type of card, as well as a flag column that returns 1 if the payment was greater than or equal to $10,000.00. (NOTE: for MySQL, curdate() will return the current date). \n",
    "\n",
    "3. A list of payees and the number of successful payments they have had. Please have the query output the payee id, the name of the payee, and the number of successful payments (if the payee has no successful payments, please have the payee included in the row, but the number or successful payments listed as 0). "
   ]
  },
  {
   "cell_type": "markdown",
   "metadata": {},
   "source": [
    "Answers: \n",
    "\n",
    "1. \n"
   ]
  }
 ],
 "metadata": {
  "kernelspec": {
   "display_name": "Python 2",
   "language": "python",
   "name": "python2"
  },
  "language_info": {
   "codemirror_mode": {
    "name": "ipython",
    "version": 2
   },
   "file_extension": ".py",
   "mimetype": "text/x-python",
   "name": "python",
   "nbconvert_exporter": "python",
   "pygments_lexer": "ipython2",
   "version": "2.7.15"
  }
 },
 "nbformat": 4,
 "nbformat_minor": 2
}
